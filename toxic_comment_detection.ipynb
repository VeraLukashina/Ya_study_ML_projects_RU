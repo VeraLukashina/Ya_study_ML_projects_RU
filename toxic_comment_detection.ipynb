{
 "cells": [
  {
   "cell_type": "markdown",
   "metadata": {
    "toc": true
   },
   "source": [
    "<h1>Table of Contents<span class=\"tocSkip\"></span></h1>\n",
    "<div class=\"toc\"><ul class=\"toc-item\"><li><span><a href=\"#Загрузка-и-предварительная-обработка-данных.\" data-toc-modified-id=\"Загрузка-и-предварительная-обработка-данных.-1\"><span class=\"toc-item-num\">1&nbsp;&nbsp;</span>Загрузка и предварительная обработка данных.</a></span></li><li><span><a href=\"#Разделение-данных-на-обучающую,-валидационную-и-тестовую-выборки.\" data-toc-modified-id=\"Разделение-данных-на-обучающую,-валидационную-и-тестовую-выборки.-2\"><span class=\"toc-item-num\">2&nbsp;&nbsp;</span>Разделение данных на обучающую, валидационную и тестовую выборки.</a></span></li><li><span><a href=\"#Разработка-моделей-машинного-обучения\" data-toc-modified-id=\"Разработка-моделей-машинного-обучения-3\"><span class=\"toc-item-num\">3&nbsp;&nbsp;</span>Разработка моделей машинного обучения</a></span><ul class=\"toc-item\"><li><span><a href=\"#CatBoostClassifier\" data-toc-modified-id=\"CatBoostClassifier-3.1\"><span class=\"toc-item-num\">3.1&nbsp;&nbsp;</span>CatBoostClassifier</a></span><ul class=\"toc-item\"><li><span><a href=\"#Простая-обработка-текста:-без-знаков-препинания,-нижний-регистр\" data-toc-modified-id=\"Простая-обработка-текста:-без-знаков-препинания,-нижний-регистр-3.1.1\"><span class=\"toc-item-num\">3.1.1&nbsp;&nbsp;</span>Простая обработка текста: без знаков препинания, нижний регистр</a></span></li><li><span><a href=\"#Расширенная-обработка-текста:-удаление-стоп-слов-и-лемматизация.\" data-toc-modified-id=\"Расширенная-обработка-текста:-удаление-стоп-слов-и-лемматизация.-3.1.2\"><span class=\"toc-item-num\">3.1.2&nbsp;&nbsp;</span>Расширенная обработка текста: удаление стоп-слов и лемматизация.</a></span></li></ul></li><li><span><a href=\"#bert-toxic-comment-classification\" data-toc-modified-id=\"bert-toxic-comment-classification-3.2\"><span class=\"toc-item-num\">3.2&nbsp;&nbsp;</span>bert-toxic-comment-classification</a></span><ul class=\"toc-item\"><li><span><a href=\"#Токенизация-с-максимальной-длиной-128-слов.\" data-toc-modified-id=\"Токенизация-с-максимальной-длиной-128-слов.-3.2.1\"><span class=\"toc-item-num\">3.2.1&nbsp;&nbsp;</span>Токенизация с максимальной длиной 128 слов.</a></span></li><li><span><a href=\"#Токенизация-с-максимальной-длиной-256-слов.\" data-toc-modified-id=\"Токенизация-с-максимальной-длиной-256-слов.-3.2.2\"><span class=\"toc-item-num\">3.2.2&nbsp;&nbsp;</span>Токенизация с максимальной длиной 256 слов.</a></span></li></ul></li><li><span><a href=\"#FAISS\" data-toc-modified-id=\"FAISS-3.3\"><span class=\"toc-item-num\">3.3&nbsp;&nbsp;</span>FAISS</a></span><ul class=\"toc-item\"><li><span><a href=\"#Эмбеддинг-с-использованием-&quot;paraphrase-mpnet-base-v2&quot;\" data-toc-modified-id=\"Эмбеддинг-с-использованием-&quot;paraphrase-mpnet-base-v2&quot;-3.3.1\"><span class=\"toc-item-num\">3.3.1&nbsp;&nbsp;</span>Эмбеддинг с использованием \"paraphrase-mpnet-base-v2\"</a></span></li><li><span><a href=\"#Эмбеддинг-с-использованием-&quot;all-MiniLM-L6-v2&quot;\" data-toc-modified-id=\"Эмбеддинг-с-использованием-&quot;all-MiniLM-L6-v2&quot;-3.3.2\"><span class=\"toc-item-num\">3.3.2&nbsp;&nbsp;</span>Эмбеддинг с использованием \"all-MiniLM-L6-v2\"</a></span></li></ul></li></ul></li><li><span><a href=\"#Оценка-качества-предсказаний-лучшей-модели.\" data-toc-modified-id=\"Оценка-качества-предсказаний-лучшей-модели.-4\"><span class=\"toc-item-num\">4&nbsp;&nbsp;</span>Оценка качества предсказаний лучшей модели.</a></span><ul class=\"toc-item\"><li><span><a href=\"#Выбор-лучшей-модели.\" data-toc-modified-id=\"Выбор-лучшей-модели.-4.1\"><span class=\"toc-item-num\">4.1&nbsp;&nbsp;</span>Выбор лучшей модели.</a></span></li><li><span><a href=\"#Тестирование-лучшей-модели.\" data-toc-modified-id=\"Тестирование-лучшей-модели.-4.2\"><span class=\"toc-item-num\">4.2&nbsp;&nbsp;</span>Тестирование лучшей модели.</a></span></li></ul></li><li><span><a href=\"#Общий-вывод.\" data-toc-modified-id=\"Общий-вывод.-5\"><span class=\"toc-item-num\">5&nbsp;&nbsp;</span>Общий вывод.</a></span></li></ul></div>"
   ]
  },
  {
   "cell_type": "markdown",
   "metadata": {
    "id": "xzM44i3CWCIO"
   },
   "source": [
    "# Классификация токсичных комментариев в интернет-магазине с использованием модели BERT."
   ]
  },
  {
   "cell_type": "markdown",
   "metadata": {
    "id": "7z-e_WGiWJ41"
   },
   "source": [
    "Интернет-магазин \"Викишоп\" расширяет функциональность путем предоставления пользователям возможности редактировать и дополнять описания товаров, аналогично вики-сообществам. В связи с этим возникает необходимость в инструменте, который автоматически определял бы токсичные комментарии и отправлял их на модерацию."
   ]
  },
  {
   "cell_type": "markdown",
   "metadata": {
    "id": "UC-exFm8WkxM"
   },
   "source": [
    "Целью проекта является разработка модели, способной классифицировать комментарии на токсичные и нейтральные, с метрикой качества F1 не менее 0,75."
   ]
  },
  {
   "cell_type": "markdown",
   "metadata": {
    "id": "5kl2io0rXt9I"
   },
   "source": [
    "В проекте будет осуществляться решение задачи бинарной классификации с применением методов обучения с учителем."
   ]
  },
  {
   "cell_type": "markdown",
   "metadata": {
    "id": "YRnkRHSuZn_r"
   },
   "source": [
    "**Описание данных:**\n",
    "\n",
    "Данные, предоставленные для анализа, состоят из 2 столбцов:\n",
    "\n",
    "`text` - текст комментария,\n",
    "\n",
    "`toxic` - целевой признак, где метка 1 соответствует токсичному комментарию, а 0 - нейтральному."
   ]
  },
  {
   "cell_type": "markdown",
   "metadata": {
    "id": "oo3aliUna4sr"
   },
   "source": [
    "**Краткий план работы:**\n",
    "\n",
    "1. Загрузка и предварительная обработка данных.\n",
    "2. Разделение данных на обучающую, валидационную и тестовую выборки.\n",
    "2. Разработка моделей машинного обучения\n",
    "3. Оценка качества предсказаний лучшей модели.\n",
    "4. Общий вывод."
   ]
  },
  {
   "cell_type": "markdown",
   "metadata": {
    "id": "FDi1qyk_cdEc"
   },
   "source": [
    "Применение модели, построенной в данном проекте, позволит автоматически обнаруживать токсичные комментарии и оперативно реагировать на негативные проявления в сообществе, что способствует минимизации конфликтов и поддержанию позитивного образа бренда."
   ]
  },
  {
   "cell_type": "markdown",
   "metadata": {
    "id": "_H-TH49Uw5mp"
   },
   "source": [
    "## Загрузка и предварительная обработка данных."
   ]
  },
  {
   "cell_type": "code",
   "execution_count": 1,
   "metadata": {
    "ExecuteTime": {
     "end_time": "2024-05-04T23:31:01.362044Z",
     "start_time": "2024-05-04T23:30:32.027193Z"
    },
    "id": "rNbLR-oszStS",
    "scrolled": true
   },
   "outputs": [
    {
     "name": "stdout",
     "output_type": "stream",
     "text": [
      "Requirement already satisfied: sentence-transformers in c:\\users\\daimy\\.conda\\envs\\new_env_name\\lib\\site-packages (2.7.0)\n",
      "Requirement already satisfied: transformers<5.0.0,>=4.34.0 in c:\\users\\daimy\\.conda\\envs\\new_env_name\\lib\\site-packages (from sentence-transformers) (4.40.1)\n",
      "Requirement already satisfied: tqdm in c:\\users\\daimy\\.conda\\envs\\new_env_name\\lib\\site-packages (from sentence-transformers) (4.66.2)\n",
      "Requirement already satisfied: torch>=1.11.0 in c:\\users\\daimy\\.conda\\envs\\new_env_name\\lib\\site-packages (from sentence-transformers) (2.3.0+cu121)\n",
      "Requirement already satisfied: numpy in c:\\users\\daimy\\.conda\\envs\\new_env_name\\lib\\site-packages (from sentence-transformers) (1.20.1)\n",
      "Requirement already satisfied: scikit-learn in c:\\users\\daimy\\.conda\\envs\\new_env_name\\lib\\site-packages (from sentence-transformers) (0.24.1)\n",
      "Requirement already satisfied: scipy in c:\\users\\daimy\\.conda\\envs\\new_env_name\\lib\\site-packages (from sentence-transformers) (1.8.0)\n",
      "Requirement already satisfied: huggingface-hub>=0.15.1 in c:\\users\\daimy\\.conda\\envs\\new_env_name\\lib\\site-packages (from sentence-transformers) (0.22.2)\n",
      "Requirement already satisfied: Pillow in c:\\users\\daimy\\.conda\\envs\\new_env_name\\lib\\site-packages (from sentence-transformers) (10.3.0)\n",
      "Requirement already satisfied: filelock in c:\\users\\daimy\\.conda\\envs\\new_env_name\\lib\\site-packages (from huggingface-hub>=0.15.1->sentence-transformers) (3.13.1)\n",
      "Requirement already satisfied: fsspec>=2023.5.0 in c:\\users\\daimy\\.conda\\envs\\new_env_name\\lib\\site-packages (from huggingface-hub>=0.15.1->sentence-transformers) (2024.2.0)\n",
      "Requirement already satisfied: packaging>=20.9 in c:\\users\\daimy\\.conda\\envs\\new_env_name\\lib\\site-packages (from huggingface-hub>=0.15.1->sentence-transformers) (24.0)\n",
      "Requirement already satisfied: pyyaml>=5.1 in c:\\users\\daimy\\.conda\\envs\\new_env_name\\lib\\site-packages (from huggingface-hub>=0.15.1->sentence-transformers) (6.0.1)\n",
      "Requirement already satisfied: requests in c:\\users\\daimy\\.conda\\envs\\new_env_name\\lib\\site-packages (from huggingface-hub>=0.15.1->sentence-transformers) (2.31.0)\n",
      "Requirement already satisfied: typing-extensions>=3.7.4.3 in c:\\users\\daimy\\.conda\\envs\\new_env_name\\lib\\site-packages (from huggingface-hub>=0.15.1->sentence-transformers) (4.11.0)\n",
      "Requirement already satisfied: sympy in c:\\users\\daimy\\.conda\\envs\\new_env_name\\lib\\site-packages (from torch>=1.11.0->sentence-transformers) (1.12)\n",
      "Requirement already satisfied: networkx in c:\\users\\daimy\\.conda\\envs\\new_env_name\\lib\\site-packages (from torch>=1.11.0->sentence-transformers) (3.2.1)\n",
      "Requirement already satisfied: jinja2 in c:\\users\\daimy\\.conda\\envs\\new_env_name\\lib\\site-packages (from torch>=1.11.0->sentence-transformers) (3.1.3)\n",
      "Requirement already satisfied: mkl<=2021.4.0,>=2021.1.1 in c:\\users\\daimy\\.conda\\envs\\new_env_name\\lib\\site-packages (from torch>=1.11.0->sentence-transformers) (2021.4.0)\n",
      "Requirement already satisfied: colorama in c:\\users\\daimy\\.conda\\envs\\new_env_name\\lib\\site-packages (from tqdm->sentence-transformers) (0.4.6)\n",
      "Requirement already satisfied: regex!=2019.12.17 in c:\\users\\daimy\\.conda\\envs\\new_env_name\\lib\\site-packages (from transformers<5.0.0,>=4.34.0->sentence-transformers) (2022.3.15)\n",
      "Requirement already satisfied: tokenizers<0.20,>=0.19 in c:\\users\\daimy\\.conda\\envs\\new_env_name\\lib\\site-packages (from transformers<5.0.0,>=4.34.0->sentence-transformers) (0.19.1)\n",
      "Requirement already satisfied: safetensors>=0.4.1 in c:\\users\\daimy\\.conda\\envs\\new_env_name\\lib\\site-packages (from transformers<5.0.0,>=4.34.0->sentence-transformers) (0.4.3)\n",
      "Requirement already satisfied: joblib>=0.11 in c:\\users\\daimy\\.conda\\envs\\new_env_name\\lib\\site-packages (from scikit-learn->sentence-transformers) (1.4.0)\n",
      "Requirement already satisfied: threadpoolctl>=2.0.0 in c:\\users\\daimy\\.conda\\envs\\new_env_name\\lib\\site-packages (from scikit-learn->sentence-transformers) (3.4.0)\n",
      "Requirement already satisfied: intel-openmp==2021.* in c:\\users\\daimy\\.conda\\envs\\new_env_name\\lib\\site-packages (from mkl<=2021.4.0,>=2021.1.1->torch>=1.11.0->sentence-transformers) (2021.4.0)\n",
      "Requirement already satisfied: tbb==2021.* in c:\\users\\daimy\\.conda\\envs\\new_env_name\\lib\\site-packages (from mkl<=2021.4.0,>=2021.1.1->torch>=1.11.0->sentence-transformers) (2021.11.0)\n",
      "Requirement already satisfied: MarkupSafe>=2.0 in c:\\users\\daimy\\.conda\\envs\\new_env_name\\lib\\site-packages (from jinja2->torch>=1.11.0->sentence-transformers) (2.1.5)\n",
      "Requirement already satisfied: charset-normalizer<4,>=2 in c:\\users\\daimy\\.conda\\envs\\new_env_name\\lib\\site-packages (from requests->huggingface-hub>=0.15.1->sentence-transformers) (3.3.2)\n",
      "Requirement already satisfied: idna<4,>=2.5 in c:\\users\\daimy\\.conda\\envs\\new_env_name\\lib\\site-packages (from requests->huggingface-hub>=0.15.1->sentence-transformers) (3.7)\n",
      "Requirement already satisfied: urllib3<3,>=1.21.1 in c:\\users\\daimy\\.conda\\envs\\new_env_name\\lib\\site-packages (from requests->huggingface-hub>=0.15.1->sentence-transformers) (2.2.1)\n",
      "Requirement already satisfied: certifi>=2017.4.17 in c:\\users\\daimy\\.conda\\envs\\new_env_name\\lib\\site-packages (from requests->huggingface-hub>=0.15.1->sentence-transformers) (2024.2.2)\n",
      "Requirement already satisfied: mpmath>=0.19 in c:\\users\\daimy\\.conda\\envs\\new_env_name\\lib\\site-packages (from sympy->torch>=1.11.0->sentence-transformers) (1.3.0)\n",
      "Requirement already satisfied: spacy in c:\\users\\daimy\\.conda\\envs\\new_env_name\\lib\\site-packages (3.7.4)\n",
      "Requirement already satisfied: spacy-legacy<3.1.0,>=3.0.11 in c:\\users\\daimy\\.conda\\envs\\new_env_name\\lib\\site-packages (from spacy) (3.0.12)\n",
      "Requirement already satisfied: spacy-loggers<2.0.0,>=1.0.0 in c:\\users\\daimy\\.conda\\envs\\new_env_name\\lib\\site-packages (from spacy) (1.0.5)\n",
      "Requirement already satisfied: murmurhash<1.1.0,>=0.28.0 in c:\\users\\daimy\\.conda\\envs\\new_env_name\\lib\\site-packages (from spacy) (1.0.10)\n",
      "Requirement already satisfied: cymem<2.1.0,>=2.0.2 in c:\\users\\daimy\\.conda\\envs\\new_env_name\\lib\\site-packages (from spacy) (2.0.8)\n",
      "Requirement already satisfied: preshed<3.1.0,>=3.0.2 in c:\\users\\daimy\\.conda\\envs\\new_env_name\\lib\\site-packages (from spacy) (3.0.9)\n",
      "Requirement already satisfied: thinc<8.3.0,>=8.2.2 in c:\\users\\daimy\\.conda\\envs\\new_env_name\\lib\\site-packages (from spacy) (8.2.3)\n",
      "Requirement already satisfied: wasabi<1.2.0,>=0.9.1 in c:\\users\\daimy\\.conda\\envs\\new_env_name\\lib\\site-packages (from spacy) (1.1.2)\n",
      "Requirement already satisfied: srsly<3.0.0,>=2.4.3 in c:\\users\\daimy\\.conda\\envs\\new_env_name\\lib\\site-packages (from spacy) (2.4.8)\n",
      "Requirement already satisfied: catalogue<2.1.0,>=2.0.6 in c:\\users\\daimy\\.conda\\envs\\new_env_name\\lib\\site-packages (from spacy) (2.0.10)\n",
      "Requirement already satisfied: weasel<0.4.0,>=0.1.0 in c:\\users\\daimy\\.conda\\envs\\new_env_name\\lib\\site-packages (from spacy) (0.3.4)\n",
      "Requirement already satisfied: typer<0.10.0,>=0.3.0 in c:\\users\\daimy\\.conda\\envs\\new_env_name\\lib\\site-packages (from spacy) (0.9.4)\n",
      "Requirement already satisfied: smart-open<7.0.0,>=5.2.1 in c:\\users\\daimy\\.conda\\envs\\new_env_name\\lib\\site-packages (from spacy) (6.4.0)\n",
      "Requirement already satisfied: tqdm<5.0.0,>=4.38.0 in c:\\users\\daimy\\.conda\\envs\\new_env_name\\lib\\site-packages (from spacy) (4.66.2)\n",
      "Requirement already satisfied: requests<3.0.0,>=2.13.0 in c:\\users\\daimy\\.conda\\envs\\new_env_name\\lib\\site-packages (from spacy) (2.31.0)\n",
      "Requirement already satisfied: pydantic!=1.8,!=1.8.1,<3.0.0,>=1.7.4 in c:\\users\\daimy\\.conda\\envs\\new_env_name\\lib\\site-packages (from spacy) (2.7.1)\n",
      "Requirement already satisfied: jinja2 in c:\\users\\daimy\\.conda\\envs\\new_env_name\\lib\\site-packages (from spacy) (3.1.3)\n",
      "Requirement already satisfied: setuptools in c:\\users\\daimy\\.conda\\envs\\new_env_name\\lib\\site-packages (from spacy) (69.5.1)\n",
      "Requirement already satisfied: packaging>=20.0 in c:\\users\\daimy\\.conda\\envs\\new_env_name\\lib\\site-packages (from spacy) (24.0)\n",
      "Requirement already satisfied: langcodes<4.0.0,>=3.2.0 in c:\\users\\daimy\\.conda\\envs\\new_env_name\\lib\\site-packages (from spacy) (3.4.0)\n",
      "Requirement already satisfied: numpy>=1.19.0 in c:\\users\\daimy\\.conda\\envs\\new_env_name\\lib\\site-packages (from spacy) (1.20.1)\n",
      "Requirement already satisfied: language-data>=1.2 in c:\\users\\daimy\\.conda\\envs\\new_env_name\\lib\\site-packages (from langcodes<4.0.0,>=3.2.0->spacy) (1.2.0)\n",
      "Requirement already satisfied: annotated-types>=0.4.0 in c:\\users\\daimy\\.conda\\envs\\new_env_name\\lib\\site-packages (from pydantic!=1.8,!=1.8.1,<3.0.0,>=1.7.4->spacy) (0.6.0)\n",
      "Requirement already satisfied: pydantic-core==2.18.2 in c:\\users\\daimy\\.conda\\envs\\new_env_name\\lib\\site-packages (from pydantic!=1.8,!=1.8.1,<3.0.0,>=1.7.4->spacy) (2.18.2)\n",
      "Requirement already satisfied: typing-extensions>=4.6.1 in c:\\users\\daimy\\.conda\\envs\\new_env_name\\lib\\site-packages (from pydantic!=1.8,!=1.8.1,<3.0.0,>=1.7.4->spacy) (4.11.0)\n",
      "Requirement already satisfied: charset-normalizer<4,>=2 in c:\\users\\daimy\\.conda\\envs\\new_env_name\\lib\\site-packages (from requests<3.0.0,>=2.13.0->spacy) (3.3.2)\n",
      "Requirement already satisfied: idna<4,>=2.5 in c:\\users\\daimy\\.conda\\envs\\new_env_name\\lib\\site-packages (from requests<3.0.0,>=2.13.0->spacy) (3.7)\n",
      "Requirement already satisfied: urllib3<3,>=1.21.1 in c:\\users\\daimy\\.conda\\envs\\new_env_name\\lib\\site-packages (from requests<3.0.0,>=2.13.0->spacy) (2.2.1)\n",
      "Requirement already satisfied: certifi>=2017.4.17 in c:\\users\\daimy\\.conda\\envs\\new_env_name\\lib\\site-packages (from requests<3.0.0,>=2.13.0->spacy) (2024.2.2)\n",
      "Requirement already satisfied: blis<0.8.0,>=0.7.8 in c:\\users\\daimy\\.conda\\envs\\new_env_name\\lib\\site-packages (from thinc<8.3.0,>=8.2.2->spacy) (0.7.11)\n",
      "Requirement already satisfied: confection<1.0.0,>=0.0.1 in c:\\users\\daimy\\.conda\\envs\\new_env_name\\lib\\site-packages (from thinc<8.3.0,>=8.2.2->spacy) (0.1.4)\n",
      "Requirement already satisfied: colorama in c:\\users\\daimy\\.conda\\envs\\new_env_name\\lib\\site-packages (from tqdm<5.0.0,>=4.38.0->spacy) (0.4.6)\n",
      "Requirement already satisfied: click<9.0.0,>=7.1.1 in c:\\users\\daimy\\.conda\\envs\\new_env_name\\lib\\site-packages (from typer<0.10.0,>=0.3.0->spacy) (8.1.7)\n",
      "Requirement already satisfied: cloudpathlib<0.17.0,>=0.7.0 in c:\\users\\daimy\\.conda\\envs\\new_env_name\\lib\\site-packages (from weasel<0.4.0,>=0.1.0->spacy) (0.16.0)\n",
      "Requirement already satisfied: MarkupSafe>=2.0 in c:\\users\\daimy\\.conda\\envs\\new_env_name\\lib\\site-packages (from jinja2->spacy) (2.1.5)\n",
      "Requirement already satisfied: marisa-trie>=0.7.7 in c:\\users\\daimy\\.conda\\envs\\new_env_name\\lib\\site-packages (from language-data>=1.2->langcodes<4.0.0,>=3.2.0->spacy) (1.1.0)\n",
      "Requirement already satisfied: ipywidgets in c:\\users\\daimy\\appdata\\roaming\\python\\python39\\site-packages (8.1.2)\n",
      "Requirement already satisfied: comm>=0.1.3 in c:\\users\\daimy\\.conda\\envs\\new_env_name\\lib\\site-packages (from ipywidgets) (0.2.2)\n",
      "Requirement already satisfied: ipython>=6.1.0 in c:\\users\\daimy\\.conda\\envs\\new_env_name\\lib\\site-packages (from ipywidgets) (8.18.1)\n",
      "Requirement already satisfied: traitlets>=4.3.1 in c:\\users\\daimy\\.conda\\envs\\new_env_name\\lib\\site-packages (from ipywidgets) (5.9.0)\n",
      "Requirement already satisfied: widgetsnbextension~=4.0.10 in c:\\users\\daimy\\appdata\\roaming\\python\\python39\\site-packages (from ipywidgets) (4.0.10)\n",
      "Requirement already satisfied: jupyterlab-widgets~=3.0.10 in c:\\users\\daimy\\appdata\\roaming\\python\\python39\\site-packages (from ipywidgets) (3.0.10)\n",
      "Requirement already satisfied: decorator in c:\\users\\daimy\\.conda\\envs\\new_env_name\\lib\\site-packages (from ipython>=6.1.0->ipywidgets) (5.1.1)\n",
      "Requirement already satisfied: jedi>=0.16 in c:\\users\\daimy\\.conda\\envs\\new_env_name\\lib\\site-packages (from ipython>=6.1.0->ipywidgets) (0.19.1)\n",
      "Requirement already satisfied: matplotlib-inline in c:\\users\\daimy\\.conda\\envs\\new_env_name\\lib\\site-packages (from ipython>=6.1.0->ipywidgets) (0.1.7)\n",
      "Requirement already satisfied: prompt-toolkit<3.1.0,>=3.0.41 in c:\\users\\daimy\\.conda\\envs\\new_env_name\\lib\\site-packages (from ipython>=6.1.0->ipywidgets) (3.0.42)\n",
      "Requirement already satisfied: pygments>=2.4.0 in c:\\users\\daimy\\.conda\\envs\\new_env_name\\lib\\site-packages (from ipython>=6.1.0->ipywidgets) (2.17.2)\n",
      "Requirement already satisfied: stack-data in c:\\users\\daimy\\.conda\\envs\\new_env_name\\lib\\site-packages (from ipython>=6.1.0->ipywidgets) (0.6.2)\n",
      "Requirement already satisfied: typing-extensions in c:\\users\\daimy\\.conda\\envs\\new_env_name\\lib\\site-packages (from ipython>=6.1.0->ipywidgets) (4.11.0)\n",
      "Requirement already satisfied: exceptiongroup in c:\\users\\daimy\\.conda\\envs\\new_env_name\\lib\\site-packages (from ipython>=6.1.0->ipywidgets) (1.2.0)\n",
      "Requirement already satisfied: colorama in c:\\users\\daimy\\.conda\\envs\\new_env_name\\lib\\site-packages (from ipython>=6.1.0->ipywidgets) (0.4.6)\n",
      "Requirement already satisfied: parso<0.9.0,>=0.8.3 in c:\\users\\daimy\\.conda\\envs\\new_env_name\\lib\\site-packages (from jedi>=0.16->ipython>=6.1.0->ipywidgets) (0.8.4)\n",
      "Requirement already satisfied: wcwidth in c:\\users\\daimy\\.conda\\envs\\new_env_name\\lib\\site-packages (from prompt-toolkit<3.1.0,>=3.0.41->ipython>=6.1.0->ipywidgets) (0.2.13)\n",
      "Requirement already satisfied: executing>=1.2.0 in c:\\users\\daimy\\.conda\\envs\\new_env_name\\lib\\site-packages (from stack-data->ipython>=6.1.0->ipywidgets) (2.0.1)\n",
      "Requirement already satisfied: asttokens>=2.1.0 in c:\\users\\daimy\\.conda\\envs\\new_env_name\\lib\\site-packages (from stack-data->ipython>=6.1.0->ipywidgets) (2.4.1)\n",
      "Requirement already satisfied: pure-eval in c:\\users\\daimy\\.conda\\envs\\new_env_name\\lib\\site-packages (from stack-data->ipython>=6.1.0->ipywidgets) (0.2.2)\n",
      "Requirement already satisfied: six>=1.12.0 in c:\\users\\daimy\\.conda\\envs\\new_env_name\\lib\\site-packages (from asttokens>=2.1.0->stack-data->ipython>=6.1.0->ipywidgets) (1.16.0)\n"
     ]
    },
    {
     "name": "stderr",
     "output_type": "stream",
     "text": [
      "Enabling notebook extension jupyter-js-widgets/extension...\n",
      "      - Validating: ok\n"
     ]
    }
   ],
   "source": [
    "!pip install -q catboost\n",
    "!pip install -q nltk\n",
    "!pip install sentence-transformers\n",
    "!pip install spacy\n",
    "!pip install -q torcheval\n",
    "!pip install -q transformers\n",
    "!pip install --user --upgrade ipywidgets\n",
    "!jupyter nbextension enable --py widgetsnbextension"
   ]
  },
  {
   "cell_type": "code",
   "execution_count": 2,
   "metadata": {
    "ExecuteTime": {
     "end_time": "2024-05-04T23:31:25.610309Z",
     "start_time": "2024-05-04T23:31:01.366036Z"
    },
    "colab": {
     "base_uri": "https://localhost:8080/",
     "height": 35
    },
    "id": "TrKRpX0GxLMJ",
    "outputId": "f46af21f-5305-4c87-faf0-0ee5ef382780"
   },
   "outputs": [
    {
     "name": "stderr",
     "output_type": "stream",
     "text": [
      "C:\\Users\\daimy\\.conda\\envs\\new_env_name\\lib\\site-packages\\scipy\\__init__.py:146: UserWarning: A NumPy version >=1.17.3 and <1.25.0 is required for this version of SciPy (detected version 1.26.4\n",
      "  warnings.warn(f\"A NumPy version >={np_minversion} and <{np_maxversion}\"\n"
     ]
    }
   ],
   "source": [
    "import pandas as pd\n",
    "import numpy as np\n",
    "\n",
    "import matplotlib.pyplot as plt\n",
    "import seaborn as sns\n",
    "\n",
    "from tqdm.notebook import tqdm\n",
    "\n",
    "import random\n",
    "import re\n",
    "import warnings\n",
    "\n",
    "from sklearn.model_selection import train_test_split\n",
    "from sklearn.metrics import(\n",
    "    f1_score,\n",
    "    roc_auc_score,\n",
    "    confusion_matrix,\n",
    "    ConfusionMatrixDisplay\n",
    ")\n",
    "\n",
    "from catboost import CatBoostClassifier, Pool, cv\n",
    "from catboost.text_processing import Tokenizer\n",
    "\n",
    "import faiss\n",
    "\n",
    "import nltk\n",
    "from nltk.probability import FreqDist\n",
    "\n",
    "from sentence_transformers import SentenceTransformer\n",
    "import spacy\n",
    "\n",
    "import torch\n",
    "import torch.nn as nn\n",
    "from torch.utils.data import(\n",
    "    DataLoader,\n",
    "    TensorDataset,\n",
    "    RandomSampler,\n",
    "    SequentialSampler                             \n",
    ")\n",
    "\n",
    "from torcheval.metrics.functional.classification import (\n",
    "    binary_f1_score,\n",
    "    binary_recall,\n",
    "    binary_precision,\n",
    "    binary_confusion_matrix\n",
    ")\n",
    "\n",
    "import transformers\n",
    "from transformers import(\n",
    "    AutoTokenizer,\n",
    "    AutoModelForSequenceClassification,\n",
    "    BertConfig,\n",
    "    get_linear_schedule_with_warmup\n",
    ")"
   ]
  },
  {
   "cell_type": "code",
   "execution_count": 3,
   "metadata": {
    "ExecuteTime": {
     "end_time": "2024-05-04T23:31:36.139941Z",
     "start_time": "2024-05-04T23:31:25.612306Z"
    },
    "scrolled": true
   },
   "outputs": [
    {
     "name": "stdout",
     "output_type": "stream",
     "text": [
      "Collecting en-core-web-sm==3.7.1\n",
      "  Downloading https://github.com/explosion/spacy-models/releases/download/en_core_web_sm-3.7.1/en_core_web_sm-3.7.1-py3-none-any.whl (12.8 MB)\n",
      "     ---------------------------------------- 0.0/12.8 MB ? eta -:--:--\n",
      "     ---------------------------------------- 0.0/12.8 MB ? eta -:--:--\n",
      "     --------------------------------------- 0.0/12.8 MB 393.8 kB/s eta 0:00:33\n",
      "      --------------------------------------- 0.3/12.8 MB 1.9 MB/s eta 0:00:07\n",
      "     --- ------------------------------------ 1.3/12.8 MB 6.8 MB/s eta 0:00:02\n",
      "     --------- ------------------------------ 2.9/12.8 MB 12.3 MB/s eta 0:00:01\n",
      "     -------------- ------------------------- 4.6/12.8 MB 16.3 MB/s eta 0:00:01\n",
      "     ------------------- -------------------- 6.2/12.8 MB 19.0 MB/s eta 0:00:01\n",
      "     ------------------------ --------------- 8.0/12.8 MB 21.3 MB/s eta 0:00:01\n",
      "     ------------------------------ --------- 9.7/12.8 MB 23.0 MB/s eta 0:00:01\n",
      "     ---------------------------------- ---- 11.4/12.8 MB 36.4 MB/s eta 0:00:01\n",
      "     --------------------------------------  12.8/12.8 MB 36.3 MB/s eta 0:00:01\n",
      "     --------------------------------------  12.8/12.8 MB 36.3 MB/s eta 0:00:01\n",
      "     --------------------------------------- 12.8/12.8 MB 29.7 MB/s eta 0:00:00\n",
      "Requirement already satisfied: spacy<3.8.0,>=3.7.2 in c:\\users\\daimy\\.conda\\envs\\new_env_name\\lib\\site-packages (from en-core-web-sm==3.7.1) (3.7.4)\n",
      "Requirement already satisfied: spacy-legacy<3.1.0,>=3.0.11 in c:\\users\\daimy\\.conda\\envs\\new_env_name\\lib\\site-packages (from spacy<3.8.0,>=3.7.2->en-core-web-sm==3.7.1) (3.0.12)\n",
      "Requirement already satisfied: spacy-loggers<2.0.0,>=1.0.0 in c:\\users\\daimy\\.conda\\envs\\new_env_name\\lib\\site-packages (from spacy<3.8.0,>=3.7.2->en-core-web-sm==3.7.1) (1.0.5)\n",
      "Requirement already satisfied: murmurhash<1.1.0,>=0.28.0 in c:\\users\\daimy\\.conda\\envs\\new_env_name\\lib\\site-packages (from spacy<3.8.0,>=3.7.2->en-core-web-sm==3.7.1) (1.0.10)\n",
      "Requirement already satisfied: cymem<2.1.0,>=2.0.2 in c:\\users\\daimy\\.conda\\envs\\new_env_name\\lib\\site-packages (from spacy<3.8.0,>=3.7.2->en-core-web-sm==3.7.1) (2.0.8)\n",
      "Requirement already satisfied: preshed<3.1.0,>=3.0.2 in c:\\users\\daimy\\.conda\\envs\\new_env_name\\lib\\site-packages (from spacy<3.8.0,>=3.7.2->en-core-web-sm==3.7.1) (3.0.9)\n",
      "Requirement already satisfied: thinc<8.3.0,>=8.2.2 in c:\\users\\daimy\\.conda\\envs\\new_env_name\\lib\\site-packages (from spacy<3.8.0,>=3.7.2->en-core-web-sm==3.7.1) (8.2.3)\n",
      "Requirement already satisfied: wasabi<1.2.0,>=0.9.1 in c:\\users\\daimy\\.conda\\envs\\new_env_name\\lib\\site-packages (from spacy<3.8.0,>=3.7.2->en-core-web-sm==3.7.1) (1.1.2)\n",
      "Requirement already satisfied: srsly<3.0.0,>=2.4.3 in c:\\users\\daimy\\.conda\\envs\\new_env_name\\lib\\site-packages (from spacy<3.8.0,>=3.7.2->en-core-web-sm==3.7.1) (2.4.8)\n",
      "Requirement already satisfied: catalogue<2.1.0,>=2.0.6 in c:\\users\\daimy\\.conda\\envs\\new_env_name\\lib\\site-packages (from spacy<3.8.0,>=3.7.2->en-core-web-sm==3.7.1) (2.0.10)\n",
      "Requirement already satisfied: weasel<0.4.0,>=0.1.0 in c:\\users\\daimy\\.conda\\envs\\new_env_name\\lib\\site-packages (from spacy<3.8.0,>=3.7.2->en-core-web-sm==3.7.1) (0.3.4)\n",
      "Requirement already satisfied: typer<0.10.0,>=0.3.0 in c:\\users\\daimy\\.conda\\envs\\new_env_name\\lib\\site-packages (from spacy<3.8.0,>=3.7.2->en-core-web-sm==3.7.1) (0.9.4)\n",
      "Requirement already satisfied: smart-open<7.0.0,>=5.2.1 in c:\\users\\daimy\\.conda\\envs\\new_env_name\\lib\\site-packages (from spacy<3.8.0,>=3.7.2->en-core-web-sm==3.7.1) (6.4.0)\n",
      "Requirement already satisfied: tqdm<5.0.0,>=4.38.0 in c:\\users\\daimy\\.conda\\envs\\new_env_name\\lib\\site-packages (from spacy<3.8.0,>=3.7.2->en-core-web-sm==3.7.1) (4.66.2)\n",
      "Requirement already satisfied: requests<3.0.0,>=2.13.0 in c:\\users\\daimy\\.conda\\envs\\new_env_name\\lib\\site-packages (from spacy<3.8.0,>=3.7.2->en-core-web-sm==3.7.1) (2.31.0)\n",
      "Requirement already satisfied: pydantic!=1.8,!=1.8.1,<3.0.0,>=1.7.4 in c:\\users\\daimy\\.conda\\envs\\new_env_name\\lib\\site-packages (from spacy<3.8.0,>=3.7.2->en-core-web-sm==3.7.1) (2.7.1)\n",
      "Requirement already satisfied: jinja2 in c:\\users\\daimy\\.conda\\envs\\new_env_name\\lib\\site-packages (from spacy<3.8.0,>=3.7.2->en-core-web-sm==3.7.1) (3.1.3)\n",
      "Requirement already satisfied: setuptools in c:\\users\\daimy\\.conda\\envs\\new_env_name\\lib\\site-packages (from spacy<3.8.0,>=3.7.2->en-core-web-sm==3.7.1) (69.5.1)\n",
      "Requirement already satisfied: packaging>=20.0 in c:\\users\\daimy\\.conda\\envs\\new_env_name\\lib\\site-packages (from spacy<3.8.0,>=3.7.2->en-core-web-sm==3.7.1) (24.0)\n",
      "Requirement already satisfied: langcodes<4.0.0,>=3.2.0 in c:\\users\\daimy\\.conda\\envs\\new_env_name\\lib\\site-packages (from spacy<3.8.0,>=3.7.2->en-core-web-sm==3.7.1) (3.4.0)\n",
      "Requirement already satisfied: numpy>=1.19.0 in c:\\users\\daimy\\.conda\\envs\\new_env_name\\lib\\site-packages (from spacy<3.8.0,>=3.7.2->en-core-web-sm==3.7.1) (1.20.1)\n",
      "Requirement already satisfied: language-data>=1.2 in c:\\users\\daimy\\.conda\\envs\\new_env_name\\lib\\site-packages (from langcodes<4.0.0,>=3.2.0->spacy<3.8.0,>=3.7.2->en-core-web-sm==3.7.1) (1.2.0)\n",
      "Requirement already satisfied: annotated-types>=0.4.0 in c:\\users\\daimy\\.conda\\envs\\new_env_name\\lib\\site-packages (from pydantic!=1.8,!=1.8.1,<3.0.0,>=1.7.4->spacy<3.8.0,>=3.7.2->en-core-web-sm==3.7.1) (0.6.0)\n",
      "Requirement already satisfied: pydantic-core==2.18.2 in c:\\users\\daimy\\.conda\\envs\\new_env_name\\lib\\site-packages (from pydantic!=1.8,!=1.8.1,<3.0.0,>=1.7.4->spacy<3.8.0,>=3.7.2->en-core-web-sm==3.7.1) (2.18.2)\n",
      "Requirement already satisfied: typing-extensions>=4.6.1 in c:\\users\\daimy\\.conda\\envs\\new_env_name\\lib\\site-packages (from pydantic!=1.8,!=1.8.1,<3.0.0,>=1.7.4->spacy<3.8.0,>=3.7.2->en-core-web-sm==3.7.1) (4.11.0)\n",
      "Requirement already satisfied: charset-normalizer<4,>=2 in c:\\users\\daimy\\.conda\\envs\\new_env_name\\lib\\site-packages (from requests<3.0.0,>=2.13.0->spacy<3.8.0,>=3.7.2->en-core-web-sm==3.7.1) (3.3.2)\n",
      "Requirement already satisfied: idna<4,>=2.5 in c:\\users\\daimy\\.conda\\envs\\new_env_name\\lib\\site-packages (from requests<3.0.0,>=2.13.0->spacy<3.8.0,>=3.7.2->en-core-web-sm==3.7.1) (3.7)\n",
      "Requirement already satisfied: urllib3<3,>=1.21.1 in c:\\users\\daimy\\.conda\\envs\\new_env_name\\lib\\site-packages (from requests<3.0.0,>=2.13.0->spacy<3.8.0,>=3.7.2->en-core-web-sm==3.7.1) (2.2.1)\n",
      "Requirement already satisfied: certifi>=2017.4.17 in c:\\users\\daimy\\.conda\\envs\\new_env_name\\lib\\site-packages (from requests<3.0.0,>=2.13.0->spacy<3.8.0,>=3.7.2->en-core-web-sm==3.7.1) (2024.2.2)\n",
      "Requirement already satisfied: blis<0.8.0,>=0.7.8 in c:\\users\\daimy\\.conda\\envs\\new_env_name\\lib\\site-packages (from thinc<8.3.0,>=8.2.2->spacy<3.8.0,>=3.7.2->en-core-web-sm==3.7.1) (0.7.11)\n",
      "Requirement already satisfied: confection<1.0.0,>=0.0.1 in c:\\users\\daimy\\.conda\\envs\\new_env_name\\lib\\site-packages (from thinc<8.3.0,>=8.2.2->spacy<3.8.0,>=3.7.2->en-core-web-sm==3.7.1) (0.1.4)\n",
      "Requirement already satisfied: colorama in c:\\users\\daimy\\.conda\\envs\\new_env_name\\lib\\site-packages (from tqdm<5.0.0,>=4.38.0->spacy<3.8.0,>=3.7.2->en-core-web-sm==3.7.1) (0.4.6)\n",
      "Requirement already satisfied: click<9.0.0,>=7.1.1 in c:\\users\\daimy\\.conda\\envs\\new_env_name\\lib\\site-packages (from typer<0.10.0,>=0.3.0->spacy<3.8.0,>=3.7.2->en-core-web-sm==3.7.1) (8.1.7)\n",
      "Requirement already satisfied: cloudpathlib<0.17.0,>=0.7.0 in c:\\users\\daimy\\.conda\\envs\\new_env_name\\lib\\site-packages (from weasel<0.4.0,>=0.1.0->spacy<3.8.0,>=3.7.2->en-core-web-sm==3.7.1) (0.16.0)\n",
      "Requirement already satisfied: MarkupSafe>=2.0 in c:\\users\\daimy\\.conda\\envs\\new_env_name\\lib\\site-packages (from jinja2->spacy<3.8.0,>=3.7.2->en-core-web-sm==3.7.1) (2.1.5)\n",
      "Requirement already satisfied: marisa-trie>=0.7.7 in c:\\users\\daimy\\.conda\\envs\\new_env_name\\lib\\site-packages (from language-data>=1.2->langcodes<4.0.0,>=3.2.0->spacy<3.8.0,>=3.7.2->en-core-web-sm==3.7.1) (1.1.0)\n",
      "\u001b[38;5;2m[+] Download and installation successful\u001b[0m\n",
      "You can now load the package via spacy.load('en_core_web_sm')\n"
     ]
    }
   ],
   "source": [
    "!python -m spacy download en_core_web_sm "
   ]
  },
  {
   "cell_type": "code",
   "execution_count": 4,
   "metadata": {
    "ExecuteTime": {
     "end_time": "2024-05-04T23:31:36.171842Z",
     "start_time": "2024-05-04T23:31:36.143926Z"
    }
   },
   "outputs": [
    {
     "name": "stdout",
     "output_type": "stream",
     "text": [
      "GPU доступен.\n",
      "Будет использован GPU: NVIDIA GeForce GTX 1050\n"
     ]
    }
   ],
   "source": [
    "# Проверка доступности GPU\n",
    "if torch.cuda.is_available():\n",
    "\n",
    "    # использовать GPU, если доступно\n",
    "    device = torch.device(\"cuda\")\n",
    "\n",
    "    print('GPU доступен.')\n",
    "\n",
    "    print('Будет использован GPU:', torch.cuda.get_device_name(0))\n",
    "\n",
    "# использовать CPU, если GPU не доступно\n",
    "else:\n",
    "    print('GPU не доступен, будет использован CPU.')\n",
    "    device = torch.device(\"cpu\")"
   ]
  },
  {
   "cell_type": "code",
   "execution_count": 5,
   "metadata": {
    "ExecuteTime": {
     "end_time": "2024-05-04T23:31:36.187784Z",
     "start_time": "2024-05-04T23:31:36.175813Z"
    },
    "id": "Eb3UhwVy0C8W"
   },
   "outputs": [],
   "source": [
    "pd.set_option('display.max_columns', None)\n",
    "pd.options.display.float_format = '{:,.2f}'.format\n",
    "tqdm.pandas()\n",
    "warnings.filterwarnings('ignore')"
   ]
  },
  {
   "cell_type": "code",
   "execution_count": 6,
   "metadata": {
    "ExecuteTime": {
     "end_time": "2024-05-04T23:31:36.217738Z",
     "start_time": "2024-05-04T23:31:36.190772Z"
    },
    "id": "9M5l1YpU0PkI"
   },
   "outputs": [],
   "source": [
    "SEED = 6885\n",
    "random.seed(SEED)\n",
    "np.random.seed(SEED)\n",
    "torch.manual_seed(SEED)\n",
    "torch.cuda.manual_seed_all(SEED)"
   ]
  },
  {
   "cell_type": "code",
   "execution_count": 7,
   "metadata": {
    "ExecuteTime": {
     "end_time": "2024-05-04T23:31:36.233698Z",
     "start_time": "2024-05-04T23:31:36.221749Z"
    }
   },
   "outputs": [],
   "source": [
    "output_dir = './model_save_128/'\n",
    "output_dir_2 = './model_save_256/'"
   ]
  },
  {
   "cell_type": "markdown",
   "metadata": {
    "id": "UPh09KU564_G"
   },
   "source": [
    "Откроем файл и выведем на экран первые 5 строк таблицы, используя первый столбец в качестве индексов датафрейма."
   ]
  },
  {
   "cell_type": "code",
   "execution_count": 8,
   "metadata": {
    "ExecuteTime": {
     "end_time": "2024-05-04T23:31:37.419041Z",
     "start_time": "2024-05-04T23:31:36.236651Z"
    },
    "colab": {
     "base_uri": "https://localhost:8080/",
     "height": 206
    },
    "id": "8a2k9jRW5g9O",
    "outputId": "5de282c3-fd20-42ac-90e8-3be142eab3ea"
   },
   "outputs": [
    {
     "data": {
      "text/html": [
       "<div>\n",
       "<style scoped>\n",
       "    .dataframe tbody tr th:only-of-type {\n",
       "        vertical-align: middle;\n",
       "    }\n",
       "\n",
       "    .dataframe tbody tr th {\n",
       "        vertical-align: top;\n",
       "    }\n",
       "\n",
       "    .dataframe thead th {\n",
       "        text-align: right;\n",
       "    }\n",
       "</style>\n",
       "<table border=\"1\" class=\"dataframe\">\n",
       "  <thead>\n",
       "    <tr style=\"text-align: right;\">\n",
       "      <th></th>\n",
       "      <th>text</th>\n",
       "      <th>toxic</th>\n",
       "    </tr>\n",
       "  </thead>\n",
       "  <tbody>\n",
       "    <tr>\n",
       "      <th>0</th>\n",
       "      <td>Explanation\\nWhy the edits made under my usern...</td>\n",
       "      <td>0</td>\n",
       "    </tr>\n",
       "    <tr>\n",
       "      <th>1</th>\n",
       "      <td>D'aww! He matches this background colour I'm s...</td>\n",
       "      <td>0</td>\n",
       "    </tr>\n",
       "    <tr>\n",
       "      <th>2</th>\n",
       "      <td>Hey man, I'm really not trying to edit war. It...</td>\n",
       "      <td>0</td>\n",
       "    </tr>\n",
       "    <tr>\n",
       "      <th>3</th>\n",
       "      <td>\"\\nMore\\nI can't make any real suggestions on ...</td>\n",
       "      <td>0</td>\n",
       "    </tr>\n",
       "    <tr>\n",
       "      <th>4</th>\n",
       "      <td>You, sir, are my hero. Any chance you remember...</td>\n",
       "      <td>0</td>\n",
       "    </tr>\n",
       "  </tbody>\n",
       "</table>\n",
       "</div>"
      ],
      "text/plain": [
       "                                                text  toxic\n",
       "0  Explanation\\nWhy the edits made under my usern...      0\n",
       "1  D'aww! He matches this background colour I'm s...      0\n",
       "2  Hey man, I'm really not trying to edit war. It...      0\n",
       "3  \"\\nMore\\nI can't make any real suggestions on ...      0\n",
       "4  You, sir, are my hero. Any chance you remember...      0"
      ]
     },
     "execution_count": 8,
     "metadata": {},
     "output_type": "execute_result"
    }
   ],
   "source": [
    "data = pd.read_csv('data/toxic_comments.csv', index_col=[0])\n",
    "data.head()"
   ]
  },
  {
   "cell_type": "markdown",
   "metadata": {
    "id": "76Baf4fE7S57"
   },
   "source": [
    "Выясним особенности типов данных и содержимого столбцов."
   ]
  },
  {
   "cell_type": "code",
   "execution_count": 9,
   "metadata": {
    "ExecuteTime": {
     "end_time": "2024-05-04T23:31:37.529841Z",
     "start_time": "2024-05-04T23:31:37.422032Z"
    },
    "colab": {
     "base_uri": "https://localhost:8080/"
    },
    "id": "C_O-bQJ86U35",
    "outputId": "a00fbc1a-3ab3-4bb6-dee3-3702e8f0e8ef"
   },
   "outputs": [
    {
     "name": "stdout",
     "output_type": "stream",
     "text": [
      "<class 'pandas.core.frame.DataFrame'>\n",
      "Int64Index: 159292 entries, 0 to 159450\n",
      "Data columns (total 2 columns):\n",
      " #   Column  Non-Null Count   Dtype \n",
      "---  ------  --------------   ----- \n",
      " 0   text    159292 non-null  object\n",
      " 1   toxic   159292 non-null  int64 \n",
      "dtypes: int64(1), object(1)\n",
      "memory usage: 3.6+ MB\n"
     ]
    }
   ],
   "source": [
    "data.info()"
   ]
  },
  {
   "cell_type": "markdown",
   "metadata": {
    "id": "reYJYYZU7a65"
   },
   "source": [
    "Типы данных соответствуют описанию. Пропусков не обнаружено."
   ]
  },
  {
   "cell_type": "markdown",
   "metadata": {
    "id": "Kmh2t59IDXmF"
   },
   "source": [
    "Объявим функцию для \"очистки\" текста и его приведения к нижнему регистру."
   ]
  },
  {
   "cell_type": "code",
   "execution_count": 10,
   "metadata": {
    "ExecuteTime": {
     "end_time": "2024-05-04T23:31:37.545453Z",
     "start_time": "2024-05-04T23:31:37.534807Z"
    },
    "id": "gjc6qARGAJa5"
   },
   "outputs": [],
   "source": [
    "def clean_text(text):\n",
    "    # Приведение к нижнему регистру и удаление лишних символов\n",
    "    cleaned_text = re.sub(r'[^a-z\\']', \" \", text.lower())\n",
    "    # Удаление дублирующихся пробелов\n",
    "    cleaned_text = re.sub(r'\\s+', ' ', cleaned_text).strip()\n",
    "    return cleaned_text"
   ]
  },
  {
   "cell_type": "code",
   "execution_count": 11,
   "metadata": {
    "ExecuteTime": {
     "end_time": "2024-05-04T23:31:46.657037Z",
     "start_time": "2024-05-04T23:31:37.547448Z"
    },
    "colab": {
     "base_uri": "https://localhost:8080/",
     "height": 206
    },
    "id": "iu64EpujFz1E",
    "outputId": "575b3b33-74a3-43eb-e06b-83ac3fe2765a"
   },
   "outputs": [
    {
     "data": {
      "application/vnd.jupyter.widget-view+json": {
       "model_id": "6451bc6d02a34d66a53b162e22179f5c",
       "version_major": 2,
       "version_minor": 0
      },
      "text/plain": [
       "  0%|          | 0/159292 [00:00<?, ?it/s]"
      ]
     },
     "metadata": {},
     "output_type": "display_data"
    },
    {
     "data": {
      "text/html": [
       "<div>\n",
       "<style scoped>\n",
       "    .dataframe tbody tr th:only-of-type {\n",
       "        vertical-align: middle;\n",
       "    }\n",
       "\n",
       "    .dataframe tbody tr th {\n",
       "        vertical-align: top;\n",
       "    }\n",
       "\n",
       "    .dataframe thead th {\n",
       "        text-align: right;\n",
       "    }\n",
       "</style>\n",
       "<table border=\"1\" class=\"dataframe\">\n",
       "  <thead>\n",
       "    <tr style=\"text-align: right;\">\n",
       "      <th></th>\n",
       "      <th>text</th>\n",
       "      <th>toxic</th>\n",
       "    </tr>\n",
       "  </thead>\n",
       "  <tbody>\n",
       "    <tr>\n",
       "      <th>4383</th>\n",
       "      <td>need administrative help i have been blocked i...</td>\n",
       "      <td>0</td>\n",
       "    </tr>\n",
       "    <tr>\n",
       "      <th>37950</th>\n",
       "      <td>nba pre draft combine and olympic measurements</td>\n",
       "      <td>0</td>\n",
       "    </tr>\n",
       "    <tr>\n",
       "      <th>26174</th>\n",
       "      <td>douche dear s be you a douchecock i believe it...</td>\n",
       "      <td>1</td>\n",
       "    </tr>\n",
       "    <tr>\n",
       "      <th>17998</th>\n",
       "      <td>royal grammar school guildford thank you for h...</td>\n",
       "      <td>0</td>\n",
       "    </tr>\n",
       "    <tr>\n",
       "      <th>10123</th>\n",
       "      <td>fuck tha world and fuck sinneed and fuck ft</td>\n",
       "      <td>1</td>\n",
       "    </tr>\n",
       "  </tbody>\n",
       "</table>\n",
       "</div>"
      ],
      "text/plain": [
       "                                                    text  toxic\n",
       "4383   need administrative help i have been blocked i...      0\n",
       "37950     nba pre draft combine and olympic measurements      0\n",
       "26174  douche dear s be you a douchecock i believe it...      1\n",
       "17998  royal grammar school guildford thank you for h...      0\n",
       "10123        fuck tha world and fuck sinneed and fuck ft      1"
      ]
     },
     "execution_count": 11,
     "metadata": {},
     "output_type": "execute_result"
    }
   ],
   "source": [
    "data['text'] = data['text'].progress_apply(clean_text)\n",
    "data.sample(5)"
   ]
  },
  {
   "cell_type": "markdown",
   "metadata": {
    "id": "DZtjLmTq77NY"
   },
   "source": [
    "Проверим датафрейм на наличие явных дубликатов."
   ]
  },
  {
   "cell_type": "code",
   "execution_count": 12,
   "metadata": {
    "ExecuteTime": {
     "end_time": "2024-05-04T23:31:46.921479Z",
     "start_time": "2024-05-04T23:31:46.661018Z"
    },
    "colab": {
     "base_uri": "https://localhost:8080/"
    },
    "id": "i0HLCSAmHkoz",
    "outputId": "8b7bd835-094b-464f-c2aa-5ed34deae834"
   },
   "outputs": [
    {
     "data": {
      "text/plain": [
       "1243"
      ]
     },
     "execution_count": 12,
     "metadata": {},
     "output_type": "execute_result"
    }
   ],
   "source": [
    "data.duplicated().sum()"
   ]
  },
  {
   "cell_type": "code",
   "execution_count": 13,
   "metadata": {
    "ExecuteTime": {
     "end_time": "2024-05-04T23:31:47.403550Z",
     "start_time": "2024-05-04T23:31:46.925470Z"
    },
    "colab": {
     "base_uri": "https://localhost:8080/"
    },
    "id": "nBZjouDgIIf0",
    "outputId": "ca761902-4318-4163-d357-4c5cd62e3d2c"
   },
   "outputs": [
    {
     "data": {
      "text/plain": [
       "0"
      ]
     },
     "execution_count": 13,
     "metadata": {},
     "output_type": "execute_result"
    }
   ],
   "source": [
    "data = data.drop_duplicates().copy()\n",
    "data.duplicated().sum()"
   ]
  },
  {
   "cell_type": "markdown",
   "metadata": {
    "id": "hENp8S2FLQea"
   },
   "source": [
    "Проверим датасет на наличие неявных дубликатов, т.е. таких строк, в которых текст одиниковый, а метка токсичности разная."
   ]
  },
  {
   "cell_type": "code",
   "execution_count": 14,
   "metadata": {
    "ExecuteTime": {
     "end_time": "2024-05-04T23:31:47.621007Z",
     "start_time": "2024-05-04T23:31:47.405552Z"
    },
    "colab": {
     "base_uri": "https://localhost:8080/"
    },
    "id": "x79B_buDIkiy",
    "outputId": "1a7211ce-e692-4a1f-aba1-39b07a7779be"
   },
   "outputs": [
    {
     "data": {
      "text/plain": [
       "56"
      ]
     },
     "execution_count": 14,
     "metadata": {},
     "output_type": "execute_result"
    }
   ],
   "source": [
    "data.duplicated(subset='text', keep=False).sum()"
   ]
  },
  {
   "cell_type": "markdown",
   "metadata": {
    "id": "niPOy_r3Mjok"
   },
   "source": [
    "Обнаружено 56 строк с неявными повторами. Все их следует удалить."
   ]
  },
  {
   "cell_type": "code",
   "execution_count": 15,
   "metadata": {
    "ExecuteTime": {
     "end_time": "2024-05-04T23:31:48.058433Z",
     "start_time": "2024-05-04T23:31:47.623001Z"
    },
    "colab": {
     "base_uri": "https://localhost:8080/"
    },
    "id": "AHJZG5NcItaf",
    "outputId": "2ecded2d-ed76-4c0c-b14a-015ce8bd450f"
   },
   "outputs": [
    {
     "data": {
      "text/plain": [
       "0"
      ]
     },
     "execution_count": 15,
     "metadata": {},
     "output_type": "execute_result"
    }
   ],
   "source": [
    "data = data.drop_duplicates(subset=['text'], keep=False).reset_index(drop=True).copy()\n",
    "data.duplicated(subset='text', keep=False).sum()"
   ]
  },
  {
   "cell_type": "markdown",
   "metadata": {
    "id": "l2WU5wA6XsHv"
   },
   "source": [
    "Проверим столбец `text` на наличие пустых строк."
   ]
  },
  {
   "cell_type": "code",
   "execution_count": 16,
   "metadata": {
    "ExecuteTime": {
     "end_time": "2024-05-04T23:31:48.105855Z",
     "start_time": "2024-05-04T23:31:48.060388Z"
    },
    "colab": {
     "base_uri": "https://localhost:8080/"
    },
    "id": "Pj0CTT-RXrfm",
    "outputId": "8511b7c6-a62b-4db0-af35-c3509f7a73e5"
   },
   "outputs": [
    {
     "data": {
      "text/plain": [
       "text    0.00\n",
       "toxic   0.00\n",
       "dtype: float64"
      ]
     },
     "execution_count": 16,
     "metadata": {},
     "output_type": "execute_result"
    }
   ],
   "source": [
    "data.loc[data['text'] == \"\"].sum()"
   ]
  },
  {
   "cell_type": "markdown",
   "metadata": {
    "id": "CQL9K4fZuHI0"
   },
   "source": [
    "Построим гисторамму распределения количества слов в комментариях."
   ]
  },
  {
   "cell_type": "code",
   "execution_count": 17,
   "metadata": {
    "ExecuteTime": {
     "end_time": "2024-05-04T23:31:48.418241Z",
     "start_time": "2024-05-04T23:31:48.110588Z"
    },
    "colab": {
     "base_uri": "https://localhost:8080/",
     "height": 564
    },
    "id": "eGNl7954t4UB",
    "outputId": "944ea993-84ff-488a-83e6-c5d902307b40"
   },
   "outputs": [
    {
     "data": {
      "image/png": "[encoded data removed]",
      "text/plain": [
       "<Figure size 640x480 with 1 Axes>"
      ]
     },
     "metadata": {},
     "output_type": "display_data"
    }
   ],
   "source": [
    "# Вычисляем длины комментариев\n",
    "lengths = data['text'].apply(len)\n",
    "\n",
    "# Строим гистограмму\n",
    "plt.hist(lengths, bins=20, color='skyblue', edgecolor='black', alpha=0.7)\n",
    "plt.xlabel('Длина комментария, слово')\n",
    "plt.ylabel('Частота')\n",
    "plt.title('Распределение длин комментариев')\n",
    "plt.grid(True)\n",
    "plt.show()"
   ]
  },
  {
   "cell_type": "markdown",
   "metadata": {
    "id": "ZrgIEuntviNV"
   },
   "source": [
    "Большинство комментариев содержат менее 500 слов, однако также наблюдаются очень длинные комментарии, состоящие из 2000 и более слов."
   ]
  },
  {
   "cell_type": "markdown",
   "metadata": {},
   "source": [
    "Вычислим основные статистические характеристики данных о длине комментария."
   ]
  },
  {
   "cell_type": "code",
   "execution_count": 18,
   "metadata": {
    "ExecuteTime": {
     "end_time": "2024-05-04T23:31:48.449152Z",
     "start_time": "2024-05-04T23:31:48.421207Z"
    }
   },
   "outputs": [
    {
     "data": {
      "text/plain": [
       "count   157,993.00\n",
       "mean        372.97\n",
       "std         561.79\n",
       "min           2.00\n",
       "25%          88.00\n",
       "50%         193.00\n",
       "75%         413.00\n",
       "max       5,000.00\n",
       "Name: text, dtype: float64"
      ]
     },
     "execution_count": 18,
     "metadata": {},
     "output_type": "execute_result"
    }
   ],
   "source": [
    "lengths.describe()"
   ]
  },
  {
   "cell_type": "markdown",
   "metadata": {},
   "source": [
    "Средняя длина комментариев - 373 слова, при этом 75% комментариев короче чем 413 слов."
   ]
  },
  {
   "cell_type": "code",
   "execution_count": 19,
   "metadata": {
    "ExecuteTime": {
     "end_time": "2024-05-04T23:31:49.148458Z",
     "start_time": "2024-05-04T23:31:48.455117Z"
    }
   },
   "outputs": [],
   "source": [
    "nlp = spacy.load(\"en_core_web_sm\")"
   ]
  },
  {
   "cell_type": "markdown",
   "metadata": {},
   "source": [
    "Объявим функцию для удаления стоп-слов и лемматизации."
   ]
  },
  {
   "cell_type": "code",
   "execution_count": 20,
   "metadata": {
    "ExecuteTime": {
     "end_time": "2024-05-04T23:31:49.164366Z",
     "start_time": "2024-05-04T23:31:49.150403Z"
    }
   },
   "outputs": [],
   "source": [
    "def do_lemma_del_stop(text):\n",
    "    doc = nlp(text)\n",
    "    lemma_sent = [token.lemma_ for token in doc if not token.is_stop]\n",
    "    \n",
    "    return lemma_sent"
   ]
  },
  {
   "cell_type": "code",
   "execution_count": 21,
   "metadata": {
    "ExecuteTime": {
     "end_time": "2024-05-04T23:31:49.182784Z",
     "start_time": "2024-05-04T23:31:49.166361Z"
    }
   },
   "outputs": [],
   "source": [
    "do_lemma = False"
   ]
  },
  {
   "cell_type": "code",
   "execution_count": 22,
   "metadata": {
    "ExecuteTime": {
     "end_time": "2024-05-04T23:31:50.437564Z",
     "start_time": "2024-05-04T23:31:49.184727Z"
    }
   },
   "outputs": [],
   "source": [
    "if do_lemma:\n",
    "    data['lemm_without_stop'] = data['text'].progress_apply(do_lemma_del_stop)\n",
    "    data.to_csv('data/lemma_comments.csv')\n",
    "else:\n",
    "    data = pd.read_csv('data/lemma_comments.csv', index_col=0)"
   ]
  },
  {
   "cell_type": "code",
   "execution_count": 23,
   "metadata": {
    "ExecuteTime": {
     "end_time": "2024-05-04T23:31:50.452270Z",
     "start_time": "2024-05-04T23:31:50.440297Z"
    }
   },
   "outputs": [
    {
     "data": {
      "text/html": [
       "<div>\n",
       "<style scoped>\n",
       "    .dataframe tbody tr th:only-of-type {\n",
       "        vertical-align: middle;\n",
       "    }\n",
       "\n",
       "    .dataframe tbody tr th {\n",
       "        vertical-align: top;\n",
       "    }\n",
       "\n",
       "    .dataframe thead th {\n",
       "        text-align: right;\n",
       "    }\n",
       "</style>\n",
       "<table border=\"1\" class=\"dataframe\">\n",
       "  <thead>\n",
       "    <tr style=\"text-align: right;\">\n",
       "      <th></th>\n",
       "      <th>text</th>\n",
       "      <th>toxic</th>\n",
       "      <th>lemm_without_stop</th>\n",
       "    </tr>\n",
       "  </thead>\n",
       "  <tbody>\n",
       "    <tr>\n",
       "      <th>0</th>\n",
       "      <td>explanation why the edits made under my userna...</td>\n",
       "      <td>0</td>\n",
       "      <td>explanation edit username hardcore metallica f...</td>\n",
       "    </tr>\n",
       "    <tr>\n",
       "      <th>1</th>\n",
       "      <td>d'aww he matches this background colour i'm se...</td>\n",
       "      <td>0</td>\n",
       "      <td>d'aww match background colour seemingly stuck ...</td>\n",
       "    </tr>\n",
       "    <tr>\n",
       "      <th>2</th>\n",
       "      <td>hey man i'm really not trying to edit war it's...</td>\n",
       "      <td>0</td>\n",
       "      <td>hey man try edit war guy constantly remove rel...</td>\n",
       "    </tr>\n",
       "    <tr>\n",
       "      <th>3</th>\n",
       "      <td>more i can't make any real suggestions on impr...</td>\n",
       "      <td>0</td>\n",
       "      <td>real suggestion improvement wonder section sta...</td>\n",
       "    </tr>\n",
       "    <tr>\n",
       "      <th>4</th>\n",
       "      <td>you sir are my hero any chance you remember wh...</td>\n",
       "      <td>0</td>\n",
       "      <td>sir hero chance remember page</td>\n",
       "    </tr>\n",
       "  </tbody>\n",
       "</table>\n",
       "</div>"
      ],
      "text/plain": [
       "                                                text  toxic  \\\n",
       "0  explanation why the edits made under my userna...      0   \n",
       "1  d'aww he matches this background colour i'm se...      0   \n",
       "2  hey man i'm really not trying to edit war it's...      0   \n",
       "3  more i can't make any real suggestions on impr...      0   \n",
       "4  you sir are my hero any chance you remember wh...      0   \n",
       "\n",
       "                                   lemm_without_stop  \n",
       "0  explanation edit username hardcore metallica f...  \n",
       "1  d'aww match background colour seemingly stuck ...  \n",
       "2  hey man try edit war guy constantly remove rel...  \n",
       "3  real suggestion improvement wonder section sta...  \n",
       "4                      sir hero chance remember page  "
      ]
     },
     "execution_count": 23,
     "metadata": {},
     "output_type": "execute_result"
    }
   ],
   "source": [
    "data.head()"
   ]
  },
  {
   "cell_type": "markdown",
   "metadata": {},
   "source": [
    "Определим самые часто встречающиеся слова в комментариях."
   ]
  },
  {
   "cell_type": "code",
   "execution_count": 24,
   "metadata": {
    "ExecuteTime": {
     "end_time": "2024-05-04T23:31:57.399731Z",
     "start_time": "2024-05-04T23:31:50.455255Z"
    }
   },
   "outputs": [
    {
     "data": {
      "text/plain": [
       "[('article', 73931),\n",
       " ('page', 56147),\n",
       " ('wikipedia', 47640),\n",
       " ('talk', 39839),\n",
       " ('edit', 36415),\n",
       " ('like', 28318),\n",
       " (\"'\", 26630),\n",
       " ('think', 24840),\n",
       " ('know', 23945),\n",
       " ('source', 23306)]"
      ]
     },
     "execution_count": 24,
     "metadata": {},
     "output_type": "execute_result"
    }
   ],
   "source": [
    "cat_tokenizer = Tokenizer()\n",
    "cleaned_texts = data['lemm_without_stop'].dropna().astype(str)\n",
    "all_texts = ' '.join(cleaned_texts)\n",
    "words = cat_tokenizer.tokenize(all_texts)\n",
    "words_txt = nltk.Text(words)\n",
    "fdist = FreqDist(words_txt)\n",
    "fdist.most_common(10)"
   ]
  },
  {
   "cell_type": "markdown",
   "metadata": {},
   "source": [
    "Исключим апостроф из токенов."
   ]
  },
  {
   "cell_type": "code",
   "execution_count": 25,
   "metadata": {
    "ExecuteTime": {
     "end_time": "2024-05-04T23:32:02.102937Z",
     "start_time": "2024-05-04T23:31:57.401685Z"
    }
   },
   "outputs": [
    {
     "data": {
      "text/plain": [
       "[('article', 73931),\n",
       " ('page', 56147),\n",
       " ('wikipedia', 47640),\n",
       " ('talk', 39839),\n",
       " ('edit', 36415),\n",
       " ('like', 28318),\n",
       " ('think', 24840),\n",
       " ('know', 23945),\n",
       " ('source', 23306),\n",
       " ('thank', 23290)]"
      ]
     },
     "execution_count": 25,
     "metadata": {},
     "output_type": "execute_result"
    }
   ],
   "source": [
    "tokens_to_exclude = [\"'\"]\n",
    "words = [word for word in words if word not in tokens_to_exclude]\n",
    "words_txt = nltk.Text(words)\n",
    "fdist = FreqDist(words_txt)\n",
    "fdist.most_common(10)"
   ]
  },
  {
   "cell_type": "markdown",
   "metadata": {},
   "source": [
    "Построим график частоты распределения слов в комментариях."
   ]
  },
  {
   "cell_type": "code",
   "execution_count": 26,
   "metadata": {
    "ExecuteTime": {
     "end_time": "2024-05-04T23:32:02.765172Z",
     "start_time": "2024-05-04T23:32:02.105930Z"
    }
   },
   "outputs": [
    {
     "data": {
      "image/png": "[encoded data removed]",
      "text/plain": [
       "<Figure size 640x480 with 1 Axes>"
      ]
     },
     "metadata": {},
     "output_type": "display_data"
    }
   ],
   "source": [
    "fdist.plot(25,cumulative=False)\n",
    "plt.show()"
   ]
  },
  {
   "cell_type": "markdown",
   "metadata": {},
   "source": [
    "В своих комментариях пользователи довольно часто ссылаются на Википедию."
   ]
  },
  {
   "cell_type": "markdown",
   "metadata": {
    "id": "n0-mitkdaB2s"
   },
   "source": [
    "Проверим целевой признак на сбалансированность"
   ]
  },
  {
   "cell_type": "code",
   "execution_count": 27,
   "metadata": {
    "ExecuteTime": {
     "end_time": "2024-05-04T23:32:02.964938Z",
     "start_time": "2024-05-04T23:32:02.772147Z"
    }
   },
   "outputs": [
    {
     "data": {
      "image/png": "[encoded data removed]",
      "text/plain": [
       "<Figure size 640x480 with 1 Axes>"
      ]
     },
     "metadata": {},
     "output_type": "display_data"
    }
   ],
   "source": [
    "pie_labels = ['Не токсичные', 'Токсичные']\n",
    "sizes = [(1-data['toxic'].mean()), data['toxic'].mean()]\n",
    "\n",
    "plt.pie(sizes, labels=pie_labels, autopct='%1.1f%%', startangle=140)\n",
    "\n",
    "plt.axis('equal')  \n",
    "plt.title('Распределение значений в целевом признаке')\n",
    "\n",
    "plt.show()"
   ]
  },
  {
   "cell_type": "markdown",
   "metadata": {
    "id": "BZNwxHQraJCO"
   },
   "source": [
    "Только 10% меток относятся к положительному классу. Это свидетельствует о дисбалансе классов."
   ]
  },
  {
   "cell_type": "markdown",
   "metadata": {
    "id": "5bZl_NnuWF-e"
   },
   "source": [
    "**Выводы:**\n",
    "\n",
    "* Данные, предоставленные для анализа, состоят из 159292 строк и 2 столбцов. Первый столбец содержит текст комментария, а второй метку токсичности.\n",
    "* Пропусков и пустых строк не обнаружено.\n",
    "* Была произведена очистка текста: приведение к нижнему регистру, удаление лишних символов и пробелов.\n",
    "* Явные дубликаты и строки, содержащие одинаковый текст, но разные метки были удалены.\n",
    "* Основная часть комментариев содержит менее 512 слов.\n",
    "* Как показал частотный анализ, в своих комментариях пользователи часто ссылаются на статьи в Википедии. А слова \"like\" и \"good\", характерные для позитивных комментариев, входят в топ 15.\n",
    "* Наблюдается дисбаланс в распределении классов."
   ]
  },
  {
   "cell_type": "markdown",
   "metadata": {
    "id": "z5qd4S1UY0QZ"
   },
   "source": [
    "## Разделение данных на обучающую, валидационную и тестовую выборки."
   ]
  },
  {
   "cell_type": "markdown",
   "metadata": {
    "id": "7Bkjm-tubF39"
   },
   "source": [
    "Объявим переменные с признаками для обучения."
   ]
  },
  {
   "cell_type": "code",
   "execution_count": 28,
   "metadata": {
    "ExecuteTime": {
     "end_time": "2024-05-04T23:32:02.979886Z",
     "start_time": "2024-05-04T23:32:02.973875Z"
    },
    "id": "MDgEeY33XB_2"
   },
   "outputs": [],
   "source": [
    "# целевой признак:\n",
    "y = data['toxic']\n",
    "\n",
    "# текст комментариев:\n",
    "x = data['text']"
   ]
  },
  {
   "cell_type": "markdown",
   "metadata": {
    "id": "5v0qEs6kTejw"
   },
   "source": [
    "Разделим исходные данные на обучающую, валидационную и тестовую выборки в соотношении 3:1:1. При анализе был выявлен дисбаланс классов в целевом признаке, это следует учесть при разбивке данных."
   ]
  },
  {
   "cell_type": "code",
   "execution_count": 29,
   "metadata": {
    "ExecuteTime": {
     "end_time": "2024-05-04T23:32:03.071844Z",
     "start_time": "2024-05-04T23:32:02.982849Z"
    },
    "colab": {
     "base_uri": "https://localhost:8080/"
    },
    "id": "IiT0-0mebtp4",
    "outputId": "28bb3e06-dddb-4552-99c9-00fa5b37c449"
   },
   "outputs": [
    {
     "data": {
      "text/plain": [
       "(126394, 31599)"
      ]
     },
     "execution_count": 29,
     "metadata": {},
     "output_type": "execute_result"
    }
   ],
   "source": [
    "x_tr, x_test, y_tr, y_test =(\n",
    "  train_test_split(x, y, test_size=0.2, stratify=y, random_state=SEED)\n",
    ")\n",
    "x_tr.shape[0], x_test.shape[0]\n"
   ]
  },
  {
   "cell_type": "code",
   "execution_count": 30,
   "metadata": {
    "ExecuteTime": {
     "end_time": "2024-05-04T23:32:03.134478Z",
     "start_time": "2024-05-04T23:32:03.074605Z"
    },
    "colab": {
     "base_uri": "https://localhost:8080/"
    },
    "id": "LZuxiH5QTxmY",
    "outputId": "ca796a18-ffb2-4187-ae3e-14dc003f076e"
   },
   "outputs": [
    {
     "data": {
      "text/plain": [
       "(94795, 31599)"
      ]
     },
     "execution_count": 30,
     "metadata": {},
     "output_type": "execute_result"
    }
   ],
   "source": [
    "x_train, x_valid, y_train, y_valid =(\n",
    "    train_test_split(x_tr, y_tr, test_size=0.25, stratify=y_tr,  random_state=SEED)\n",
    ")\n",
    "x_train.shape[0], x_valid.shape[0]\n"
   ]
  },
  {
   "cell_type": "code",
   "execution_count": 31,
   "metadata": {
    "ExecuteTime": {
     "end_time": "2024-05-04T23:32:03.150435Z",
     "start_time": "2024-05-04T23:32:03.136439Z"
    },
    "colab": {
     "base_uri": "https://localhost:8080/"
    },
    "id": "-2EfBbeZVTax",
    "outputId": "3a7b5fb3-20c8-4ce5-d481-8165e2e61c18",
    "scrolled": true
   },
   "outputs": [
    {
     "name": "stdout",
     "output_type": "stream",
     "text": [
      "Размерность тренировочной выборки: (94795,)\n",
      "Размерность валидационной выборки выборки: (31599,)\n",
      "Размерность тестовой выборки: (31599,)\n",
      "Доля положительных меток в тренировочной выборке: 0.1015243420011604\n",
      "Доля положительных меток в валидационной выборке: 0.10152220006962245\n",
      "Доля положительных меток в тестовой выборке: 0.10152220006962245\n"
     ]
    }
   ],
   "source": [
    "print('Размерность тренировочной выборки:', x_train.shape)\n",
    "print('Размерность валидационной выборки выборки:', x_valid.shape)\n",
    "print('Размерность тестовой выборки:', x_test.shape)\n",
    "print('Доля положительных меток в тренировочной выборке:', y_train.mean())\n",
    "print('Доля положительных меток в валидационной выборке:', y_valid.mean ())\n",
    "print('Доля положительных меток в тестовой выборке:', y_test.mean ())"
   ]
  },
  {
   "cell_type": "markdown",
   "metadata": {
    "id": "BUiFxvuAVTGe"
   },
   "source": [
    "## Разработка моделей машинного обучения"
   ]
  },
  {
   "cell_type": "markdown",
   "metadata": {
    "id": "UhO2EoMuebRN"
   },
   "source": [
    "### CatBoostClassifier"
   ]
  },
  {
   "cell_type": "markdown",
   "metadata": {
    "id": "-K22NZuueiRE"
   },
   "source": [
    "CatBoostClassifier - модель градиентного бустинга, способная работать с текстовыми признаками."
   ]
  },
  {
   "cell_type": "markdown",
   "metadata": {},
   "source": [
    "#### Простая обработка текста: без знаков препинания, нижний регистр"
   ]
  },
  {
   "cell_type": "code",
   "execution_count": 32,
   "metadata": {
    "ExecuteTime": {
     "end_time": "2024-05-04T23:32:03.166391Z",
     "start_time": "2024-05-04T23:32:03.152398Z"
    },
    "id": "jryx7kPBk9BA"
   },
   "outputs": [],
   "source": [
    "x_train_df = pd.DataFrame({'text': x_train})\n",
    "x_valid_df = pd.DataFrame({'text': x_valid})"
   ]
  },
  {
   "cell_type": "code",
   "execution_count": 33,
   "metadata": {
    "ExecuteTime": {
     "end_time": "2024-05-04T23:32:03.304046Z",
     "start_time": "2024-05-04T23:32:03.169352Z"
    },
    "id": "GCKkVTB9eanl"
   },
   "outputs": [],
   "source": [
    "train_pool_base = Pool(\n",
    "    x_train_df,\n",
    "    y_train,\n",
    "    text_features=['text']\n",
    ")\n",
    "\n",
    "valid_pool_base = Pool(\n",
    "    x_valid_df,\n",
    "    y_valid,\n",
    "    text_features=['text']\n",
    ")"
   ]
  },
  {
   "cell_type": "code",
   "execution_count": 34,
   "metadata": {
    "ExecuteTime": {
     "end_time": "2024-05-04T23:32:03.319953Z",
     "start_time": "2024-05-04T23:32:03.305987Z"
    },
    "id": "z1WNWtQrgH03"
   },
   "outputs": [],
   "source": [
    "cat_model = CatBoostClassifier(\n",
    "    iterations=1000,\n",
    "    learning_rate=0.05,\n",
    "    eval_metric='F1',\n",
    "    task_type='GPU',\n",
    "    random_seed=SEED\n",
    "    )"
   ]
  },
  {
   "cell_type": "code",
   "execution_count": 35,
   "metadata": {
    "ExecuteTime": {
     "end_time": "2024-05-04T23:32:28.761472Z",
     "start_time": "2024-05-04T23:32:03.323937Z"
    },
    "colab": {
     "base_uri": "https://localhost:8080/"
    },
    "id": "LjSfmTLxheXo",
    "outputId": "10d5b29b-3dd4-4d3e-f9f0-1e70eb799110"
   },
   "outputs": [
    {
     "data": {
      "application/vnd.jupyter.widget-view+json": {
       "model_id": "434977dff78a4862b36a0352c26006ff",
       "version_major": 2,
       "version_minor": 0
      },
      "text/plain": [
       "MetricVisualizer(layout=Layout(align_self='stretch', height='500px'))"
      ]
     },
     "metadata": {},
     "output_type": "display_data"
    },
    {
     "name": "stdout",
     "output_type": "stream",
     "text": [
      "0:\tlearn: 0.7047430\ttest: 0.7377863\tbest: 0.7377863 (0)\ttotal: 178ms\tremaining: 2m 57s\n",
      "100:\tlearn: 0.7316425\ttest: 0.7448445\tbest: 0.7448445 (100)\ttotal: 2.16s\tremaining: 19.2s\n",
      "200:\tlearn: 0.7517369\ttest: 0.7554623\tbest: 0.7560294 (198)\ttotal: 4.05s\tremaining: 16.1s\n",
      "300:\tlearn: 0.7617389\ttest: 0.7617222\tbest: 0.7617222 (299)\ttotal: 5.96s\tremaining: 13.8s\n",
      "400:\tlearn: 0.7676122\ttest: 0.7619048\tbest: 0.7629190 (362)\ttotal: 7.86s\tremaining: 11.7s\n",
      "500:\tlearn: 0.7740773\ttest: 0.7626527\tbest: 0.7635666 (489)\ttotal: 9.69s\tremaining: 9.65s\n",
      "600:\tlearn: 0.7787970\ttest: 0.7633188\tbest: 0.7636998 (563)\ttotal: 11.5s\tremaining: 7.64s\n",
      "700:\tlearn: 0.7818667\ttest: 0.7645111\tbest: 0.7653719 (687)\ttotal: 13.3s\tremaining: 5.69s\n",
      "800:\tlearn: 0.7864595\ttest: 0.7648084\tbest: 0.7653719 (687)\ttotal: 15.2s\tremaining: 3.77s\n",
      "900:\tlearn: 0.7902721\ttest: 0.7666318\tbest: 0.7672759 (897)\ttotal: 17s\tremaining: 1.86s\n",
      "999:\tlearn: 0.7936379\ttest: 0.7682142\tbest: 0.7686957 (981)\ttotal: 18.9s\tremaining: 0us\n",
      "bestTest = 0.7686956522\n",
      "bestIteration = 981\n",
      "Shrink model to first 982 iterations.\n"
     ]
    },
    {
     "data": {
      "text/plain": [
       "<catboost.core.CatBoostClassifier at 0x2170d1e8400>"
      ]
     },
     "execution_count": 35,
     "metadata": {},
     "output_type": "execute_result"
    }
   ],
   "source": [
    "cat_model.fit(train_pool_base, eval_set=valid_pool_base, verbose=100, plot=True)"
   ]
  },
  {
   "cell_type": "code",
   "execution_count": 36,
   "metadata": {
    "ExecuteTime": {
     "end_time": "2024-05-04T23:32:29.422394Z",
     "start_time": "2024-05-04T23:32:28.764190Z"
    },
    "colab": {
     "base_uri": "https://localhost:8080/"
    },
    "id": "bXOtoOFXhuKM",
    "outputId": "41d4c311-e95c-4d22-c91a-3b54ea19920d"
   },
   "outputs": [
    {
     "name": "stdout",
     "output_type": "stream",
     "text": [
      "F1 мера модели CatBoostClassifier: 0.769\n"
     ]
    }
   ],
   "source": [
    "cat_preds = cat_model.predict(valid_pool_base)\n",
    "cat_score = f1_score(y_valid, cat_preds)\n",
    "print(f'F1 мера модели CatBoostClassifier: {cat_score:.3f}')"
   ]
  },
  {
   "cell_type": "markdown",
   "metadata": {},
   "source": [
    "#### Расширенная обработка текста: удаление стоп-слов и лемматизация."
   ]
  },
  {
   "cell_type": "markdown",
   "metadata": {},
   "source": [
    "Обучим модель CatBoostClassifier на лемматизированных текстах без стоп-слов."
   ]
  },
  {
   "cell_type": "code",
   "execution_count": 37,
   "metadata": {
    "ExecuteTime": {
     "end_time": "2024-05-04T23:32:29.452318Z",
     "start_time": "2024-05-04T23:32:29.428378Z"
    }
   },
   "outputs": [],
   "source": [
    "train_indices = x_train.index.tolist()\n",
    "valid_indices = x_valid.index.tolist()"
   ]
  },
  {
   "cell_type": "code",
   "execution_count": 38,
   "metadata": {
    "ExecuteTime": {
     "end_time": "2024-05-04T23:32:29.608894Z",
     "start_time": "2024-05-04T23:32:29.460296Z"
    }
   },
   "outputs": [],
   "source": [
    "train_lemma = data[['lemm_without_stop', 'toxic']].loc[train_indices]\n",
    "valid_lemma = data[['lemm_without_stop', 'toxic']].loc[valid_indices]"
   ]
  },
  {
   "cell_type": "code",
   "execution_count": 39,
   "metadata": {
    "ExecuteTime": {
     "end_time": "2024-05-04T23:32:29.702645Z",
     "start_time": "2024-05-04T23:32:29.611889Z"
    }
   },
   "outputs": [],
   "source": [
    "train_lemma = train_lemma.dropna(subset=['lemm_without_stop']).copy()\n",
    "valid_lemma = valid_lemma.dropna(subset=['lemm_without_stop']).copy()"
   ]
  },
  {
   "cell_type": "code",
   "execution_count": 40,
   "metadata": {
    "ExecuteTime": {
     "end_time": "2024-05-04T23:32:29.718601Z",
     "start_time": "2024-05-04T23:32:29.705635Z"
    },
    "scrolled": true
   },
   "outputs": [
    {
     "data": {
      "text/html": [
       "<div>\n",
       "<style scoped>\n",
       "    .dataframe tbody tr th:only-of-type {\n",
       "        vertical-align: middle;\n",
       "    }\n",
       "\n",
       "    .dataframe tbody tr th {\n",
       "        vertical-align: top;\n",
       "    }\n",
       "\n",
       "    .dataframe thead th {\n",
       "        text-align: right;\n",
       "    }\n",
       "</style>\n",
       "<table border=\"1\" class=\"dataframe\">\n",
       "  <thead>\n",
       "    <tr style=\"text-align: right;\">\n",
       "      <th></th>\n",
       "      <th>lemm_without_stop</th>\n",
       "      <th>toxic</th>\n",
       "    </tr>\n",
       "  </thead>\n",
       "  <tbody>\n",
       "    <tr>\n",
       "      <th>48086</th>\n",
       "      <td>unblock sorry want ip address change happen</td>\n",
       "      <td>0</td>\n",
       "    </tr>\n",
       "    <tr>\n",
       "      <th>137961</th>\n",
       "      <td>dave wain add remove article domain validation...</td>\n",
       "      <td>0</td>\n",
       "    </tr>\n",
       "    <tr>\n",
       "      <th>92058</th>\n",
       "      <td>request talk fresh boat fresh boat fresh boat ...</td>\n",
       "      <td>0</td>\n",
       "    </tr>\n",
       "    <tr>\n",
       "      <th>149815</th>\n",
       "      <td>bartle bogle hegarty hello thankyou help entry...</td>\n",
       "      <td>0</td>\n",
       "    </tr>\n",
       "    <tr>\n",
       "      <th>134409</th>\n",
       "      <td>look section</td>\n",
       "      <td>0</td>\n",
       "    </tr>\n",
       "  </tbody>\n",
       "</table>\n",
       "</div>"
      ],
      "text/plain": [
       "                                        lemm_without_stop  toxic\n",
       "48086         unblock sorry want ip address change happen      0\n",
       "137961  dave wain add remove article domain validation...      0\n",
       "92058   request talk fresh boat fresh boat fresh boat ...      0\n",
       "149815  bartle bogle hegarty hello thankyou help entry...      0\n",
       "134409                                       look section      0"
      ]
     },
     "execution_count": 40,
     "metadata": {},
     "output_type": "execute_result"
    }
   ],
   "source": [
    "train_lemma.head()"
   ]
  },
  {
   "cell_type": "code",
   "execution_count": 41,
   "metadata": {
    "ExecuteTime": {
     "end_time": "2024-05-04T23:32:29.734559Z",
     "start_time": "2024-05-04T23:32:29.720597Z"
    }
   },
   "outputs": [
    {
     "data": {
      "text/html": [
       "<div>\n",
       "<style scoped>\n",
       "    .dataframe tbody tr th:only-of-type {\n",
       "        vertical-align: middle;\n",
       "    }\n",
       "\n",
       "    .dataframe tbody tr th {\n",
       "        vertical-align: top;\n",
       "    }\n",
       "\n",
       "    .dataframe thead th {\n",
       "        text-align: right;\n",
       "    }\n",
       "</style>\n",
       "<table border=\"1\" class=\"dataframe\">\n",
       "  <thead>\n",
       "    <tr style=\"text-align: right;\">\n",
       "      <th></th>\n",
       "      <th>lemm_without_stop</th>\n",
       "      <th>toxic</th>\n",
       "    </tr>\n",
       "  </thead>\n",
       "  <tbody>\n",
       "    <tr>\n",
       "      <th>89955</th>\n",
       "      <td>nihilist like wise people s opinion belief pur...</td>\n",
       "      <td>0</td>\n",
       "    </tr>\n",
       "    <tr>\n",
       "      <th>94838</th>\n",
       "      <td>guy like pascerboy sturmvogel accuse violate g...</td>\n",
       "      <td>1</td>\n",
       "    </tr>\n",
       "    <tr>\n",
       "      <th>43264</th>\n",
       "      <td>rap album mention kobe album release think sig...</td>\n",
       "      <td>0</td>\n",
       "    </tr>\n",
       "    <tr>\n",
       "      <th>101690</th>\n",
       "      <td>miss forest add comment talk page light ongoin...</td>\n",
       "      <td>0</td>\n",
       "    </tr>\n",
       "    <tr>\n",
       "      <th>41153</th>\n",
       "      <td>delete get duplicate image want delete delete ...</td>\n",
       "      <td>0</td>\n",
       "    </tr>\n",
       "  </tbody>\n",
       "</table>\n",
       "</div>"
      ],
      "text/plain": [
       "                                        lemm_without_stop  toxic\n",
       "89955   nihilist like wise people s opinion belief pur...      0\n",
       "94838   guy like pascerboy sturmvogel accuse violate g...      1\n",
       "43264   rap album mention kobe album release think sig...      0\n",
       "101690  miss forest add comment talk page light ongoin...      0\n",
       "41153   delete get duplicate image want delete delete ...      0"
      ]
     },
     "execution_count": 41,
     "metadata": {},
     "output_type": "execute_result"
    }
   ],
   "source": [
    "valid_lemma.head()"
   ]
  },
  {
   "cell_type": "code",
   "execution_count": 42,
   "metadata": {
    "ExecuteTime": {
     "end_time": "2024-05-04T23:32:29.749518Z",
     "start_time": "2024-05-04T23:32:29.738547Z"
    }
   },
   "outputs": [],
   "source": [
    "x_train_lemma_df = pd.DataFrame(train_lemma['lemm_without_stop'])\n",
    "x_valid_lemma_df = pd.DataFrame(valid_lemma['lemm_without_stop'])"
   ]
  },
  {
   "cell_type": "code",
   "execution_count": 43,
   "metadata": {
    "ExecuteTime": {
     "end_time": "2024-05-04T23:32:29.858228Z",
     "start_time": "2024-05-04T23:32:29.753509Z"
    }
   },
   "outputs": [],
   "source": [
    "train_pool_lemma = Pool(\n",
    "    x_train_lemma_df,\n",
    "    train_lemma['toxic'],\n",
    "    text_features=['lemm_without_stop']\n",
    ")\n",
    "\n",
    "valid_pool_lemma = Pool(\n",
    "    x_valid_lemma_df,\n",
    "    valid_lemma['toxic'],\n",
    "    text_features=['lemm_without_stop']\n",
    ")"
   ]
  },
  {
   "cell_type": "code",
   "execution_count": 44,
   "metadata": {
    "ExecuteTime": {
     "end_time": "2024-05-04T23:32:29.873187Z",
     "start_time": "2024-05-04T23:32:29.861218Z"
    },
    "id": "z1WNWtQrgH03"
   },
   "outputs": [],
   "source": [
    "cat_lemma_model = CatBoostClassifier(\n",
    "    iterations=1000,\n",
    "    learning_rate=0.05,\n",
    "    eval_metric='F1',\n",
    "    task_type='GPU',\n",
    "    random_seed=SEED\n",
    "    )"
   ]
  },
  {
   "cell_type": "code",
   "execution_count": 45,
   "metadata": {
    "ExecuteTime": {
     "end_time": "2024-05-04T23:32:52.932077Z",
     "start_time": "2024-05-04T23:32:29.876180Z"
    },
    "colab": {
     "base_uri": "https://localhost:8080/"
    },
    "id": "LjSfmTLxheXo",
    "outputId": "10d5b29b-3dd4-4d3e-f9f0-1e70eb799110"
   },
   "outputs": [
    {
     "data": {
      "application/vnd.jupyter.widget-view+json": {
       "model_id": "c8eaa37f6b234e94b6a3014600268e84",
       "version_major": 2,
       "version_minor": 0
      },
      "text/plain": [
       "MetricVisualizer(layout=Layout(align_self='stretch', height='500px'))"
      ]
     },
     "metadata": {},
     "output_type": "display_data"
    },
    {
     "name": "stdout",
     "output_type": "stream",
     "text": [
      "0:\tlearn: 0.6971048\ttest: 0.7379219\tbest: 0.7379219 (0)\ttotal: 19.1ms\tremaining: 19.1s\n",
      "100:\tlearn: 0.7202678\ttest: 0.7380613\tbest: 0.7380613 (100)\ttotal: 1.87s\tremaining: 16.6s\n",
      "200:\tlearn: 0.7430148\ttest: 0.7470817\tbest: 0.7476603 (186)\ttotal: 3.96s\tremaining: 15.8s\n",
      "300:\tlearn: 0.7554559\ttest: 0.7528329\tbest: 0.7530995 (294)\ttotal: 5.92s\tremaining: 13.7s\n",
      "400:\tlearn: 0.7627808\ttest: 0.7554693\tbest: 0.7556888 (399)\ttotal: 7.75s\tremaining: 11.6s\n",
      "500:\tlearn: 0.7650222\ttest: 0.7562224\tbest: 0.7564803 (413)\ttotal: 9.59s\tremaining: 9.55s\n",
      "600:\tlearn: 0.7689494\ttest: 0.7580986\tbest: 0.7580986 (595)\ttotal: 11.4s\tremaining: 7.58s\n",
      "700:\tlearn: 0.7714556\ttest: 0.7587542\tbest: 0.7594091 (684)\ttotal: 13.3s\tremaining: 5.68s\n",
      "800:\tlearn: 0.7729098\ttest: 0.7617208\tbest: 0.7625066 (785)\ttotal: 15.2s\tremaining: 3.78s\n",
      "900:\tlearn: 0.7762110\ttest: 0.7612019\tbest: 0.7625066 (785)\ttotal: 16.9s\tremaining: 1.86s\n",
      "999:\tlearn: 0.7794473\ttest: 0.7626404\tbest: 0.7626582 (959)\ttotal: 18.7s\tremaining: 0us\n",
      "bestTest = 0.7626582278\n",
      "bestIteration = 959\n",
      "Shrink model to first 960 iterations.\n"
     ]
    },
    {
     "data": {
      "text/plain": [
       "<catboost.core.CatBoostClassifier at 0x2170f10bf10>"
      ]
     },
     "execution_count": 45,
     "metadata": {},
     "output_type": "execute_result"
    }
   ],
   "source": [
    "cat_lemma_model.fit(train_pool_lemma, eval_set=valid_pool_lemma, verbose=100, plot=True)"
   ]
  },
  {
   "cell_type": "code",
   "execution_count": 46,
   "metadata": {
    "ExecuteTime": {
     "end_time": "2024-05-04T23:32:53.278138Z",
     "start_time": "2024-05-04T23:32:52.935056Z"
    },
    "colab": {
     "base_uri": "https://localhost:8080/"
    },
    "id": "bXOtoOFXhuKM",
    "outputId": "41d4c311-e95c-4d22-c91a-3b54ea19920d"
   },
   "outputs": [
    {
     "name": "stdout",
     "output_type": "stream",
     "text": [
      "F1 мера модели CatBoostClassifier на лемматизированном тексте: 0.763\n"
     ]
    }
   ],
   "source": [
    "cat_lemma_preds = cat_lemma_model.predict(valid_pool_lemma)\n",
    "cat_lemma_score = f1_score(valid_lemma['toxic'], cat_lemma_preds)\n",
    "print(f'F1 мера модели CatBoostClassifier на лемматизированном тексте: {cat_lemma_score:.3f}')"
   ]
  },
  {
   "cell_type": "markdown",
   "metadata": {},
   "source": [
    "**Вывод**:\n",
    "\n",
    "Удаление стоп-слов и лемматизация комментариев привели к снижению метрики качества."
   ]
  },
  {
   "cell_type": "markdown",
   "metadata": {
    "id": "nnKVMf-mnz66"
   },
   "source": [
    "### bert-toxic-comment-classification"
   ]
  },
  {
   "cell_type": "markdown",
   "metadata": {},
   "source": [
    "bert-toxic-comment-classification - предобученная модель для классификации токсичных комментариев на основе архитектуры BERT (Bidirectional Encoder Representations from Transformers)."
   ]
  },
  {
   "cell_type": "code",
   "execution_count": 47,
   "metadata": {
    "ExecuteTime": {
     "end_time": "2024-05-04T23:32:54.097204Z",
     "start_time": "2024-05-04T23:32:53.281130Z"
    },
    "colab": {
     "base_uri": "https://localhost:8080/"
    },
    "id": "fdWc0X2plN2Q",
    "outputId": "b5c96d40-5cb2-4bd0-9a13-dad5212cccc2",
    "scrolled": true
   },
   "outputs": [],
   "source": [
    "tokenizer = AutoTokenizer.from_pretrained(\"JungleLee/bert-toxic-comment-classification\")"
   ]
  },
  {
   "cell_type": "markdown",
   "metadata": {},
   "source": [
    "Объявим функцию подготовки входных данных для работы модели."
   ]
  },
  {
   "cell_type": "code",
   "execution_count": 48,
   "metadata": {
    "ExecuteTime": {
     "end_time": "2024-05-04T23:32:54.112512Z",
     "start_time": "2024-05-04T23:32:54.099546Z"
    },
    "id": "xGt8XkZxWoJ6"
   },
   "outputs": [],
   "source": [
    "def bert_token(text, tokenizer, max_len):\n",
    "    # Токенизиция, добавление спец. токенов, замена токенов на их id, приведение к заданной длине, создание маски внимания\n",
    "    tokenized = text.apply(\n",
    "            lambda x: tokenizer(x,\n",
    "                                max_length=max_len,\n",
    "                                truncation=True,\n",
    "                                padding='max_length',\n",
    "                                return_tensors='pt',\n",
    "                                return_token_type_ids=False,\n",
    "                                return_attention_mask=True)\n",
    "    )\n",
    "    # Извлечение input_ids и attention_mask\n",
    "    input_ids_list = [item['input_ids'].squeeze() for item in tokenized]\n",
    "    attention_mask_list = [item['attention_mask'].squeeze() for item in tokenized]\n",
    "    # Преобразование в тензоры PyTorch\n",
    "    input_ids_tensor = torch.stack(input_ids_list)\n",
    "    attention_mask_tensor = torch.stack(attention_mask_list)\n",
    "\n",
    "    return input_ids_tensor, attention_mask_tensor"
   ]
  },
  {
   "cell_type": "markdown",
   "metadata": {},
   "source": [
    "#### Токенизация с максимальной длиной 128 слов."
   ]
  },
  {
   "cell_type": "markdown",
   "metadata": {},
   "source": [
    "Установим максимальную длину комментария равной 128"
   ]
  },
  {
   "cell_type": "code",
   "execution_count": 49,
   "metadata": {
    "ExecuteTime": {
     "end_time": "2024-05-04T23:33:44.621505Z",
     "start_time": "2024-05-04T23:32:54.116501Z"
    },
    "id": "4wihjU2LWP3O"
   },
   "outputs": [],
   "source": [
    "train_inputs, train_masks = bert_token(x_train, tokenizer, 128)"
   ]
  },
  {
   "cell_type": "code",
   "execution_count": 50,
   "metadata": {
    "ExecuteTime": {
     "end_time": "2024-05-04T23:34:00.468270Z",
     "start_time": "2024-05-04T23:33:44.643446Z"
    },
    "id": "H0dpboSdfSry"
   },
   "outputs": [],
   "source": [
    "valid_inputs, valid_masks = bert_token(x_valid, tokenizer, 128)"
   ]
  },
  {
   "cell_type": "code",
   "execution_count": 51,
   "metadata": {
    "ExecuteTime": {
     "end_time": "2024-05-04T23:34:00.834917Z",
     "start_time": "2024-05-04T23:34:00.470996Z"
    },
    "id": "iYU5gaXFgF6i"
   },
   "outputs": [],
   "source": [
    "train_labels = torch.tensor(y_train.values)\n",
    "valid_labels = torch.tensor(y_valid.values)"
   ]
  },
  {
   "cell_type": "code",
   "execution_count": 52,
   "metadata": {
    "ExecuteTime": {
     "end_time": "2024-05-04T23:34:00.866799Z",
     "start_time": "2024-05-04T23:34:00.839872Z"
    },
    "colab": {
     "base_uri": "https://localhost:8080/"
    },
    "id": "uceNy1DYaXXL",
    "outputId": "c5c8fcbd-a366-41ad-e945-ae0785f39f5e"
   },
   "outputs": [
    {
     "name": "stdout",
     "output_type": "stream",
     "text": [
      "Размерность тренировочных признаков: torch.Size([94795, 128])\n",
      "Размерность тренировочной маски: torch.Size([94795, 128])\n",
      "Размерность тренировочного таргета: torch.Size([94795])\n",
      "Размерность валидационных признаков: torch.Size([31599, 128])\n",
      "Размерность валидационной маски: torch.Size([31599, 128])\n",
      "Размерность валидационного таргета: torch.Size([31599])\n"
     ]
    }
   ],
   "source": [
    "print(\"Размерность тренировочных признаков:\", train_inputs.size())\n",
    "print(\"Размерность тренировочной маски:\", train_masks.size())\n",
    "print(\"Размерность тренировочного таргета:\", train_labels.size())\n",
    "\n",
    "print(\"Размерность валидационных признаков:\", valid_inputs.size())\n",
    "print(\"Размерность валидационной маски:\", valid_masks.size())\n",
    "print(\"Размерность валидационного таргета:\", valid_labels.size())"
   ]
  },
  {
   "cell_type": "code",
   "execution_count": 53,
   "metadata": {
    "ExecuteTime": {
     "end_time": "2024-05-04T23:34:00.881759Z",
     "start_time": "2024-05-04T23:34:00.871784Z"
    }
   },
   "outputs": [],
   "source": [
    "batch_size = 16"
   ]
  },
  {
   "cell_type": "markdown",
   "metadata": {},
   "source": [
    "Объявим объекты DataLoader для тренировочной и валидационной выборок."
   ]
  },
  {
   "cell_type": "code",
   "execution_count": 54,
   "metadata": {
    "ExecuteTime": {
     "end_time": "2024-05-04T23:34:00.942621Z",
     "start_time": "2024-05-04T23:34:00.885748Z"
    }
   },
   "outputs": [],
   "source": [
    "train_data = TensorDataset(train_inputs, train_masks, train_labels)\n",
    "train_sampler = RandomSampler(train_data, generator=torch.Generator().manual_seed(SEED))\n",
    "train_dataloader = DataLoader(train_data, sampler=train_sampler, batch_size=batch_size)"
   ]
  },
  {
   "cell_type": "code",
   "execution_count": 55,
   "metadata": {
    "ExecuteTime": {
     "end_time": "2024-05-04T23:34:00.958571Z",
     "start_time": "2024-05-04T23:34:00.945588Z"
    }
   },
   "outputs": [],
   "source": [
    "valid_data = TensorDataset(valid_inputs, valid_masks, valid_labels)\n",
    "valid_sampler = SequentialSampler(valid_data)\n",
    "valid_dataloader = DataLoader(valid_data, sampler=valid_sampler, batch_size=batch_size)"
   ]
  },
  {
   "cell_type": "markdown",
   "metadata": {},
   "source": [
    "Объявим функцию для обучения модели."
   ]
  },
  {
   "cell_type": "code",
   "execution_count": 56,
   "metadata": {
    "ExecuteTime": {
     "end_time": "2024-05-04T23:34:01.004468Z",
     "start_time": "2024-05-04T23:34:00.960551Z"
    }
   },
   "outputs": [],
   "source": [
    "def bert_tuning(bert_model, optimizer, epochs, train_dataloader, valid_dataloader):\n",
    "    \n",
    "    bert_model.to(device)\n",
    "    total_steps = len(train_dataloader) * epochs\n",
    "    scheduler = get_linear_schedule_with_warmup(optimizer, \n",
    "                                                num_warmup_steps = 0,\n",
    "                                                num_training_steps = total_steps)\n",
    "    \n",
    "    best_score = 0\n",
    "    for epoch_i in range(epochs):\n",
    "\n",
    "        print(\"\")\n",
    "        print(f'======== Epoch {epoch_i + 1} / {epochs} ========')\n",
    "        print('Training...')\n",
    "\n",
    "        bert_model.train()\n",
    "        all_train_preds = []\n",
    "        all_train_targets = []\n",
    "\n",
    "        for input_ids, input_mask, labels in train_dataloader:\n",
    "            input_ids = input_ids.to(device)\n",
    "            input_mask = input_mask.to(device)\n",
    "            labels = labels.to(device)\n",
    "\n",
    "            bert_model.zero_grad()\n",
    "\n",
    "            outputs = bert_model(input_ids,\n",
    "                                 token_type_ids=None,\n",
    "                                 attention_mask=input_mask,\n",
    "                                 labels=labels)\n",
    "\n",
    "            loss = outputs['loss']\n",
    "            logits = outputs['logits']\n",
    "\n",
    "            predicted_labels = logits.argmax(dim=1)\n",
    "            all_train_preds.append(predicted_labels)\n",
    "            all_train_targets.append(labels)\n",
    "\n",
    "            loss.backward()\n",
    "\n",
    "            torch.nn.utils.clip_grad_norm_(bert_model.parameters(), 1.0)\n",
    "\n",
    "            optimizer.step()\n",
    "            scheduler.step()\n",
    "\n",
    "        all_train_preds = torch.cat(all_train_preds)\n",
    "        all_train_targets = torch.cat(all_train_targets)\n",
    "        all_train_targets = all_train_targets.long()\n",
    "        bert_score_train = binary_f1_score(all_train_preds.squeeze(), all_train_targets.squeeze())\n",
    "        print(f'Значение F1 на трейне {bert_score_train:.3f}')\n",
    "\n",
    "        print(\"\")\n",
    "        print(\"Running Validation...\")\n",
    "\n",
    "        bert_model.eval()\n",
    "\n",
    "        all_valid_preds = []\n",
    "        all_valid_targets = []\n",
    "\n",
    "        for input_ids, input_mask, labels in valid_dataloader:\n",
    "            input_ids = input_ids.to(device)\n",
    "            input_mask = input_mask.to(device)\n",
    "            labels = labels.to(device)\n",
    "\n",
    "            with torch.no_grad():\n",
    "\n",
    "                outputs = bert_model(input_ids,\n",
    "                                     token_type_ids=None,\n",
    "                                     attention_mask=input_mask)\n",
    "\n",
    "            logits = outputs['logits']\n",
    "\n",
    "            predicted_labels = logits.argmax(dim=1)\n",
    "            all_valid_preds.append(predicted_labels)\n",
    "            all_valid_targets.append(labels)\n",
    "\n",
    "        all_valid_preds = torch.cat(all_valid_preds)\n",
    "        all_valid_targets = torch.cat(all_valid_targets)\n",
    "        all_valid_targets = all_valid_targets.long()\n",
    "        bert_score_valid = binary_f1_score(all_valid_preds.squeeze(), all_valid_targets.squeeze())\n",
    "        print(f'Значение F1 на валидации {bert_score_valid:.3f}')\n",
    "\n",
    "        if bert_score_valid > best_score:\n",
    "            best_score = bert_score_valid\n",
    "            best_bert_model = bert_model\n",
    "    \n",
    "    return best_bert_model, best_score"
   ]
  },
  {
   "cell_type": "code",
   "execution_count": 57,
   "metadata": {
    "ExecuteTime": {
     "end_time": "2024-05-04T23:34:01.034376Z",
     "start_time": "2024-05-04T23:34:01.007422Z"
    }
   },
   "outputs": [],
   "source": [
    "# Считаем (True) или загружаем (False) ранее посчитанную модель.\n",
    "do_bert_tuning = False"
   ]
  },
  {
   "cell_type": "code",
   "execution_count": 58,
   "metadata": {
    "ExecuteTime": {
     "end_time": "2024-05-04T23:34:04.249122Z",
     "start_time": "2024-05-04T23:34:01.038339Z"
    }
   },
   "outputs": [],
   "source": [
    "if do_bert_tuning:\n",
    "    \n",
    "    bert_model = AutoModelForSequenceClassification.from_pretrained(\n",
    "        \"JungleLee/bert-toxic-comment-classification\",\n",
    "        num_labels = 2, \n",
    "        output_attentions = False, \n",
    "        output_hidden_states = False\n",
    "    )\n",
    "    optimizer = torch.optim.AdamW(bert_model.parameters(), lr=2e-5, eps=1e-8)\n",
    "    epochs = 2\n",
    "    \n",
    "    best_bert_model, best_bert_score = bert_tuning(bert_model, optimizer, epochs, train_dataloader, valid_dataloader)\n",
    "    \n",
    "    model_to_save = best_bert_model.module if hasattr(best_bert_model, 'module') else best_bert_model\n",
    "    model_to_save.save_pretrained(output_dir)\n",
    "    tokenizer.save_pretrained(output_dir)\n",
    "    \n",
    "else:\n",
    "    bert_model_load = AutoModelForSequenceClassification.from_pretrained(output_dir)\n",
    "    if torch.cuda.device_count() > 1:\n",
    "        bert_model_load = torch.nn.DataParallel(bert_model_load)\n",
    "\n",
    "    tokenizer_load = AutoTokenizer.from_pretrained(output_dir)\n",
    "\n",
    "    bert_model_load.to(device)"
   ]
  },
  {
   "cell_type": "code",
   "execution_count": 59,
   "metadata": {
    "ExecuteTime": {
     "end_time": "2024-05-04T23:43:17.979765Z",
     "start_time": "2024-05-04T23:34:04.252116Z"
    },
    "scrolled": true
   },
   "outputs": [
    {
     "name": "stdout",
     "output_type": "stream",
     "text": [
      "Значение F1 на валидации 0.863\n"
     ]
    }
   ],
   "source": [
    "bert_model_load.eval()\n",
    "\n",
    "all_valid_preds = []\n",
    "all_valid_targets = []\n",
    "\n",
    "for input_ids, input_mask, labels in valid_dataloader:\n",
    "    input_ids = input_ids.to(device)\n",
    "    input_mask = input_mask.to(device)\n",
    "    labels = labels.to(device)\n",
    "\n",
    "    with torch.no_grad():\n",
    "        outputs = bert_model_load(input_ids,\n",
    "                                  token_type_ids=None,\n",
    "                                  attention_mask=input_mask)\n",
    "\n",
    "        logits = outputs['logits']\n",
    "            \n",
    "        all_valid_preds.append(logits.argmax(dim=1))\n",
    "        all_valid_targets.append(labels)\n",
    "    \n",
    "all_valid_preds = torch.cat(all_valid_preds)\n",
    "all_valid_targets = torch.cat(all_valid_targets)\n",
    "all_valid_targets = all_valid_targets.long()\n",
    "    \n",
    "bert_score_valid = binary_f1_score(all_valid_preds.squeeze(), all_valid_targets.squeeze())\n",
    "print(f'Значение F1 на валидации {bert_score_valid:.3f}')"
   ]
  },
  {
   "cell_type": "code",
   "execution_count": 60,
   "metadata": {
    "ExecuteTime": {
     "end_time": "2024-05-04T23:43:18.339767Z",
     "start_time": "2024-05-04T23:43:18.010647Z"
    }
   },
   "outputs": [],
   "source": [
    "all_valid_preds = all_valid_preds.cpu()\n",
    "bert_score_valid = bert_score_valid.cpu()\n",
    "bert_model_load = bert_model_load.cpu()"
   ]
  },
  {
   "cell_type": "code",
   "execution_count": 61,
   "metadata": {
    "ExecuteTime": {
     "end_time": "2024-05-04T23:43:18.386642Z",
     "start_time": "2024-05-04T23:43:18.346748Z"
    }
   },
   "outputs": [],
   "source": [
    "torch.cuda.empty_cache()"
   ]
  },
  {
   "cell_type": "markdown",
   "metadata": {},
   "source": [
    "#### Токенизация с максимальной длиной 256 слов."
   ]
  },
  {
   "cell_type": "code",
   "execution_count": 62,
   "metadata": {
    "ExecuteTime": {
     "end_time": "2024-05-04T23:43:19.408287Z",
     "start_time": "2024-05-04T23:43:18.396615Z"
    },
    "colab": {
     "base_uri": "https://localhost:8080/"
    },
    "id": "fdWc0X2plN2Q",
    "outputId": "b5c96d40-5cb2-4bd0-9a13-dad5212cccc2",
    "scrolled": true
   },
   "outputs": [],
   "source": [
    "tokenizer_2 = AutoTokenizer.from_pretrained(\"JungleLee/bert-toxic-comment-classification\")"
   ]
  },
  {
   "cell_type": "code",
   "execution_count": 63,
   "metadata": {
    "ExecuteTime": {
     "end_time": "2024-05-04T23:45:52.171020Z",
     "start_time": "2024-05-04T23:43:19.412279Z"
    },
    "id": "4wihjU2LWP3O"
   },
   "outputs": [],
   "source": [
    "train_inputs_2, train_masks_2 = bert_token(x_train, tokenizer_2, 256)"
   ]
  },
  {
   "cell_type": "code",
   "execution_count": 64,
   "metadata": {
    "ExecuteTime": {
     "end_time": "2024-05-04T23:46:18.782426Z",
     "start_time": "2024-05-04T23:45:52.287686Z"
    },
    "id": "H0dpboSdfSry"
   },
   "outputs": [],
   "source": [
    "valid_inputs_2, valid_masks_2 = bert_token(x_valid, tokenizer_2, 256)"
   ]
  },
  {
   "cell_type": "code",
   "execution_count": 65,
   "metadata": {
    "ExecuteTime": {
     "end_time": "2024-05-04T23:46:18.954949Z",
     "start_time": "2024-05-04T23:46:18.821322Z"
    },
    "colab": {
     "base_uri": "https://localhost:8080/"
    },
    "id": "uceNy1DYaXXL",
    "outputId": "c5c8fcbd-a366-41ad-e945-ae0785f39f5e"
   },
   "outputs": [
    {
     "name": "stdout",
     "output_type": "stream",
     "text": [
      "Размерность тренировочных признаков: torch.Size([94795, 256])\n",
      "Размерность тренировочной маски: torch.Size([94795, 256])\n",
      "Размерность тренировочного таргета: torch.Size([94795])\n",
      "Размерность валидационных признаков: torch.Size([31599, 256])\n",
      "Размерность валидационной маски: torch.Size([31599, 256])\n",
      "Размерность валидационного таргета: torch.Size([31599])\n"
     ]
    }
   ],
   "source": [
    "print(\"Размерность тренировочных признаков:\", train_inputs_2.size())\n",
    "print(\"Размерность тренировочной маски:\", train_masks_2.size())\n",
    "print(\"Размерность тренировочного таргета:\", train_labels.size())\n",
    "\n",
    "print(\"Размерность валидационных признаков:\", valid_inputs_2.size())\n",
    "print(\"Размерность валидационной маски:\", valid_masks_2.size())\n",
    "print(\"Размерность валидационного таргета:\", valid_labels.size())"
   ]
  },
  {
   "cell_type": "markdown",
   "metadata": {},
   "source": [
    "Объявим объекты DataLoader для выборок."
   ]
  },
  {
   "cell_type": "code",
   "execution_count": 66,
   "metadata": {
    "ExecuteTime": {
     "end_time": "2024-05-04T23:46:18.970904Z",
     "start_time": "2024-05-04T23:46:18.958936Z"
    }
   },
   "outputs": [],
   "source": [
    "batch_size_2 = 8"
   ]
  },
  {
   "cell_type": "code",
   "execution_count": 67,
   "metadata": {
    "ExecuteTime": {
     "end_time": "2024-05-04T23:46:19.123499Z",
     "start_time": "2024-05-04T23:46:18.974894Z"
    }
   },
   "outputs": [],
   "source": [
    "train_data_2 = TensorDataset(train_inputs_2, train_masks_2, train_labels)\n",
    "train_sampler_2 = RandomSampler(train_data_2, generator=torch.Generator().manual_seed(SEED))\n",
    "train_dataloader_2 = DataLoader(train_data_2, sampler=train_sampler_2, batch_size=batch_size_2)"
   ]
  },
  {
   "cell_type": "code",
   "execution_count": 68,
   "metadata": {
    "ExecuteTime": {
     "end_time": "2024-05-04T23:46:19.183339Z",
     "start_time": "2024-05-04T23:46:19.127488Z"
    }
   },
   "outputs": [],
   "source": [
    "valid_data_2 = TensorDataset(valid_inputs_2, valid_masks_2, valid_labels)\n",
    "valid_sampler_2 = SequentialSampler(valid_data_2)\n",
    "valid_dataloader_2 = DataLoader(valid_data_2, sampler=valid_sampler_2, batch_size=batch_size_2)"
   ]
  },
  {
   "cell_type": "code",
   "execution_count": 69,
   "metadata": {
    "ExecuteTime": {
     "end_time": "2024-05-04T23:46:22.003960Z",
     "start_time": "2024-05-04T23:46:19.186332Z"
    },
    "scrolled": false
   },
   "outputs": [],
   "source": [
    "if do_bert_tuning:\n",
    "    \n",
    "    bert_model_2 = AutoModelForSequenceClassification.from_pretrained(\n",
    "        \"JungleLee/bert-toxic-comment-classification\",\n",
    "        num_labels = 2, \n",
    "        output_attentions = False, \n",
    "        output_hidden_states = False\n",
    "    )\n",
    "    optimizer_2 = torch.optim.AdamW(bert_model_2.parameters(), lr=2e-5, eps=1e-8)\n",
    "    epochs = 2\n",
    "    \n",
    "    best_bert_model_2, best_bert_score_2 = bert_tuning(bert_model_2, optimizer_2, epochs, \n",
    "                                                       train_dataloader_2, valid_dataloader_2)\n",
    "    \n",
    "    model_to_save_2 = best_bert_model_2.module if hasattr(best_bert_model_2, 'module') else best_bert_model_2\n",
    "    model_to_save_2.save_pretrained(output_dir_2)\n",
    "    tokenizer_2.save_pretrained(output_dir_2)\n",
    "    \n",
    "else:\n",
    "    bert_model_load_2 = AutoModelForSequenceClassification.from_pretrained(output_dir_2)\n",
    "    if torch.cuda.device_count() > 1:\n",
    "        bert_model_load_2 = torch.nn.DataParallel(bert_model_load_2)\n",
    "\n",
    "    tokenizer_load_2 = AutoTokenizer.from_pretrained(output_dir_2)\n",
    "\n",
    "    bert_model_load_2.to(device)"
   ]
  },
  {
   "cell_type": "code",
   "execution_count": 70,
   "metadata": {
    "ExecuteTime": {
     "end_time": "2024-05-05T00:06:41.881732Z",
     "start_time": "2024-05-04T23:46:22.034879Z"
    },
    "scrolled": true
   },
   "outputs": [
    {
     "name": "stdout",
     "output_type": "stream",
     "text": [
      "Значение F1 на валидации 0.863\n"
     ]
    }
   ],
   "source": [
    "bert_model_load_2.eval()\n",
    "all_valid_preds_2 = []\n",
    "all_valid_targets_2 = []\n",
    "\n",
    "for input_ids, input_mask, labels in valid_dataloader_2:\n",
    "    input_ids = input_ids.to(device)\n",
    "    input_mask = input_mask.to(device)\n",
    "    labels = labels.to(device)\n",
    "\n",
    "    with torch.no_grad():\n",
    "        outputs = bert_model_load_2(input_ids,\n",
    "                                    token_type_ids=None,\n",
    "                                    attention_mask=input_mask)\n",
    "\n",
    "        logits = outputs['logits']\n",
    "            \n",
    "        all_valid_preds_2.append(logits.argmax(dim=1))\n",
    "        all_valid_targets_2.append(labels)\n",
    "    \n",
    "all_valid_preds_2 = torch.cat(all_valid_preds_2)\n",
    "all_valid_targets_2 = torch.cat(all_valid_targets_2)\n",
    "all_valid_targets_2 = all_valid_targets_2.long()\n",
    "    \n",
    "bert_score_valid_2 = binary_f1_score(all_valid_preds_2.squeeze(), all_valid_targets_2.squeeze())\n",
    "print(f'Значение F1 на валидации {bert_score_valid_2:.3f}')"
   ]
  },
  {
   "cell_type": "code",
   "execution_count": 71,
   "metadata": {
    "ExecuteTime": {
     "end_time": "2024-05-05T00:06:42.590930Z",
     "start_time": "2024-05-05T00:06:41.923284Z"
    }
   },
   "outputs": [],
   "source": [
    "all_valid_preds_2 = all_valid_preds_2.cpu()\n",
    "bert_score_valid_2 = bert_score_valid_2.cpu()\n",
    "bert_model_load_2 = bert_model_load_2.cpu()"
   ]
  },
  {
   "cell_type": "code",
   "execution_count": 72,
   "metadata": {
    "ExecuteTime": {
     "end_time": "2024-05-05T00:06:42.653947Z",
     "start_time": "2024-05-05T00:06:42.593731Z"
    }
   },
   "outputs": [],
   "source": [
    "torch.cuda.empty_cache()"
   ]
  },
  {
   "cell_type": "markdown",
   "metadata": {},
   "source": [
    "### FAISS"
   ]
  },
  {
   "cell_type": "markdown",
   "metadata": {},
   "source": [
    "FAISS представляет собой библиотеку для эффективного поиска ближайших соседей в векторном пространстве. В данном проекте FAISS будет использована для поиска n ближайших соседей, а присвоение метки класса будет выполнено методом \"голосование по большинству\"."
   ]
  },
  {
   "cell_type": "code",
   "execution_count": 73,
   "metadata": {
    "ExecuteTime": {
     "end_time": "2024-05-05T00:06:45.525523Z",
     "start_time": "2024-05-05T00:06:42.700350Z"
    }
   },
   "outputs": [],
   "source": [
    "base = pd.concat([x_train, y_train], axis=1).reset_index(drop=True)\n",
    "query = x_valid.reset_index(drop=True)\n",
    "query_labels = y_valid.reset_index(drop=True)"
   ]
  },
  {
   "cell_type": "code",
   "execution_count": 74,
   "metadata": {
    "ExecuteTime": {
     "end_time": "2024-05-05T00:06:46.457035Z",
     "start_time": "2024-05-05T00:06:45.559286Z"
    }
   },
   "outputs": [
    {
     "data": {
      "text/html": [
       "<div>\n",
       "<style scoped>\n",
       "    .dataframe tbody tr th:only-of-type {\n",
       "        vertical-align: middle;\n",
       "    }\n",
       "\n",
       "    .dataframe tbody tr th {\n",
       "        vertical-align: top;\n",
       "    }\n",
       "\n",
       "    .dataframe thead th {\n",
       "        text-align: right;\n",
       "    }\n",
       "</style>\n",
       "<table border=\"1\" class=\"dataframe\">\n",
       "  <thead>\n",
       "    <tr style=\"text-align: right;\">\n",
       "      <th></th>\n",
       "      <th>text</th>\n",
       "      <th>toxic</th>\n",
       "    </tr>\n",
       "  </thead>\n",
       "  <tbody>\n",
       "    <tr>\n",
       "      <th>0</th>\n",
       "      <td>please unblock me now sorry for what i've done...</td>\n",
       "      <td>0</td>\n",
       "    </tr>\n",
       "    <tr>\n",
       "      <th>1</th>\n",
       "      <td>dave wain adds by removing my article on domai...</td>\n",
       "      <td>0</td>\n",
       "    </tr>\n",
       "    <tr>\n",
       "      <th>2</th>\n",
       "      <td>requested move talk fresh of the boat fresh of...</td>\n",
       "      <td>0</td>\n",
       "    </tr>\n",
       "    <tr>\n",
       "      <th>3</th>\n",
       "      <td>bartle bogle hegarty hello thankyou for your h...</td>\n",
       "      <td>0</td>\n",
       "    </tr>\n",
       "    <tr>\n",
       "      <th>4</th>\n",
       "      <td>looked at that section</td>\n",
       "      <td>0</td>\n",
       "    </tr>\n",
       "  </tbody>\n",
       "</table>\n",
       "</div>"
      ],
      "text/plain": [
       "                                                text  toxic\n",
       "0  please unblock me now sorry for what i've done...      0\n",
       "1  dave wain adds by removing my article on domai...      0\n",
       "2  requested move talk fresh of the boat fresh of...      0\n",
       "3  bartle bogle hegarty hello thankyou for your h...      0\n",
       "4                             looked at that section      0"
      ]
     },
     "execution_count": 74,
     "metadata": {},
     "output_type": "execute_result"
    }
   ],
   "source": [
    "base.head()"
   ]
  },
  {
   "cell_type": "markdown",
   "metadata": {},
   "source": [
    "#### Эмбеддинг с использованием \"paraphrase-mpnet-base-v2\""
   ]
  },
  {
   "cell_type": "code",
   "execution_count": 75,
   "metadata": {
    "ExecuteTime": {
     "end_time": "2024-05-05T00:06:58.291679Z",
     "start_time": "2024-05-05T00:06:46.461942Z"
    }
   },
   "outputs": [],
   "source": [
    "encoder_1 = SentenceTransformer(\"paraphrase-mpnet-base-v2\")"
   ]
  },
  {
   "cell_type": "code",
   "execution_count": 76,
   "metadata": {
    "ExecuteTime": {
     "end_time": "2024-05-05T00:06:58.402455Z",
     "start_time": "2024-05-05T00:06:58.381506Z"
    }
   },
   "outputs": [],
   "source": [
    "# Считаем (True) или загружаем (False) ранее рассчитанные вектора.\n",
    "do_embedding = False"
   ]
  },
  {
   "cell_type": "code",
   "execution_count": 77,
   "metadata": {
    "ExecuteTime": {
     "end_time": "2024-05-05T00:06:59.968909Z",
     "start_time": "2024-05-05T00:06:58.412426Z"
    }
   },
   "outputs": [],
   "source": [
    "if do_embedding:\n",
    "    base_vectors = encoder_1.encode(base['text'])\n",
    "    np.save('data/base_vectors.npy', base_vectors)\n",
    "    query_vectors = encoder_1.encode(query)\n",
    "    np.save('data/query_vectors.npy', query_vectors)\n",
    "else:\n",
    "    base_vectors = np.load('data/base_vectors.npy').astype('float32')\n",
    "    query_vectors = np.load('data/query_vectors.npy').astype('float32')"
   ]
  },
  {
   "cell_type": "code",
   "execution_count": 78,
   "metadata": {
    "ExecuteTime": {
     "end_time": "2024-05-05T00:07:00.029734Z",
     "start_time": "2024-05-05T00:06:59.981863Z"
    }
   },
   "outputs": [],
   "source": [
    "dim_1 = base_vectors.shape[1]"
   ]
  },
  {
   "cell_type": "code",
   "execution_count": 79,
   "metadata": {
    "ExecuteTime": {
     "end_time": "2024-05-05T00:07:00.216235Z",
     "start_time": "2024-05-05T00:07:00.038709Z"
    }
   },
   "outputs": [],
   "source": [
    "index_1 = faiss.IndexFlatL2(dim_1)"
   ]
  },
  {
   "cell_type": "code",
   "execution_count": 80,
   "metadata": {
    "ExecuteTime": {
     "end_time": "2024-05-05T00:07:00.653063Z",
     "start_time": "2024-05-05T00:07:00.220227Z"
    }
   },
   "outputs": [],
   "source": [
    "faiss.normalize_L2(base_vectors)\n",
    "index_1.add(base_vectors)"
   ]
  },
  {
   "cell_type": "code",
   "execution_count": 81,
   "metadata": {
    "ExecuteTime": {
     "end_time": "2024-05-05T00:07:00.697950Z",
     "start_time": "2024-05-05T00:07:00.657053Z"
    }
   },
   "outputs": [],
   "source": [
    "faiss.normalize_L2(query_vectors)"
   ]
  },
  {
   "cell_type": "markdown",
   "metadata": {},
   "source": [
    "Объявим функцию для получения предсказаний с использованием FAISS."
   ]
  },
  {
   "cell_type": "code",
   "execution_count": 82,
   "metadata": {
    "ExecuteTime": {
     "end_time": "2024-05-05T00:07:01.347286Z",
     "start_time": "2024-05-05T00:07:01.237546Z"
    }
   },
   "outputs": [],
   "source": [
    "def faiss_predict(ids, threshold_value):\n",
    "    '''\n",
    "    Принимает на вход индексы n-ближайших векторов и порог для положительного класса.\n",
    "    Возвращает предсказания классов\n",
    "    '''\n",
    "    preds_sum = [] # Создаем список для сумм меток аналогов для каждого комментария\n",
    "    for row in ids:\n",
    "        labels = [] # Создаем список меток для каждого аналога\n",
    "        for i in row:\n",
    "            label = base.loc[i, 'toxic']\n",
    "            labels.append(label)\n",
    "        pred_sum = sum(labels) # Суммируем метки\n",
    "        preds_sum.append(pred_sum) # Добавляем сумму в список\n",
    "\n",
    "    # Преобразуем список сумм в предсказания меток для комментариев из query\n",
    "    predictions = np.where(np.array(preds_sum) > threshold_value, 1, 0)\n",
    "    return predictions"
   ]
  },
  {
   "cell_type": "markdown",
   "metadata": {
    "ExecuteTime": {
     "end_time": "2024-05-02T16:46:58.357076Z",
     "start_time": "2024-05-02T16:46:58.345071Z"
    }
   },
   "source": [
    "Выполним подбор количества \"соседей\"."
   ]
  },
  {
   "cell_type": "code",
   "execution_count": 83,
   "metadata": {
    "ExecuteTime": {
     "end_time": "2024-05-05T00:09:55.014414Z",
     "start_time": "2024-05-05T00:07:01.349246Z"
    }
   },
   "outputs": [
    {
     "name": "stdout",
     "output_type": "stream",
     "text": [
      "Лучшее значение F1 меры = 0.7133736559139786 при 9 соседях\n"
     ]
    }
   ],
   "source": [
    "best_score = 0\n",
    "best_n = 0\n",
    "for n in list(range(3, 10, 2)):\n",
    "    dists, ids = index_1.search(query_vectors, n)\n",
    "    preds = faiss_predict(ids, n/2)\n",
    "    score = f1_score(query_labels, preds)\n",
    "    \n",
    "    if score > best_score:\n",
    "        best_score = score\n",
    "        best_n = n\n",
    "\n",
    "print(f'Лучшее значение F1 меры = {best_score} при {best_n} соседях')"
   ]
  },
  {
   "cell_type": "code",
   "execution_count": 84,
   "metadata": {
    "ExecuteTime": {
     "end_time": "2024-05-05T00:10:34.825444Z",
     "start_time": "2024-05-05T00:09:55.021406Z"
    }
   },
   "outputs": [],
   "source": [
    "dists_1, ids_1 = index_1.search(query_vectors, best_n)"
   ]
  },
  {
   "cell_type": "code",
   "execution_count": 85,
   "metadata": {
    "ExecuteTime": {
     "end_time": "2024-05-05T00:10:38.647218Z",
     "start_time": "2024-05-05T00:10:34.891269Z"
    }
   },
   "outputs": [
    {
     "name": "stdout",
     "output_type": "stream",
     "text": [
      "F1 мера модели FAISS: 0.713\n"
     ]
    }
   ],
   "source": [
    "faiss_preds_1 = faiss_predict(ids_1, best_n/2)\n",
    "faiss_score_1 = f1_score(query_labels, faiss_preds_1)\n",
    "print(f'F1 мера модели FAISS: {faiss_score_1:.3f}')"
   ]
  },
  {
   "cell_type": "markdown",
   "metadata": {},
   "source": [
    "#### Эмбеддинг с использованием \"all-MiniLM-L6-v2\""
   ]
  },
  {
   "cell_type": "code",
   "execution_count": 86,
   "metadata": {
    "ExecuteTime": {
     "end_time": "2024-05-05T00:10:42.651762Z",
     "start_time": "2024-05-05T00:10:38.651207Z"
    }
   },
   "outputs": [],
   "source": [
    "encoder_2 = SentenceTransformer('sentence-transformers/all-MiniLM-L6-v2')"
   ]
  },
  {
   "cell_type": "code",
   "execution_count": 87,
   "metadata": {
    "ExecuteTime": {
     "end_time": "2024-05-05T00:10:43.426508Z",
     "start_time": "2024-05-05T00:10:42.689013Z"
    }
   },
   "outputs": [],
   "source": [
    "if do_embedding:\n",
    "    base_vectors_2 = encoder_2.encode(base['text'])\n",
    "    np.save('data/base_vectors_2.npy', base_vectors_2)\n",
    "    query_vectors_2 = encoder_2.encode(query)\n",
    "    np.save('data/query_vectors_2.npy', query_vectors_2)\n",
    "else:\n",
    "    base_vectors_2 = np.load('data/base_vectors_2.npy').astype('float32')\n",
    "    query_vectors_2 = np.load('data/query_vectors_2.npy').astype('float32')"
   ]
  },
  {
   "cell_type": "code",
   "execution_count": 88,
   "metadata": {
    "ExecuteTime": {
     "end_time": "2024-05-05T00:10:43.534638Z",
     "start_time": "2024-05-05T00:10:43.490306Z"
    }
   },
   "outputs": [],
   "source": [
    "dim_2 = base_vectors_2.shape[1]"
   ]
  },
  {
   "cell_type": "code",
   "execution_count": 89,
   "metadata": {
    "ExecuteTime": {
     "end_time": "2024-05-05T00:10:43.610803Z",
     "start_time": "2024-05-05T00:10:43.571270Z"
    }
   },
   "outputs": [],
   "source": [
    "index_2 = faiss.IndexFlatL2(dim_2)"
   ]
  },
  {
   "cell_type": "code",
   "execution_count": 90,
   "metadata": {
    "ExecuteTime": {
     "end_time": "2024-05-05T00:10:43.749377Z",
     "start_time": "2024-05-05T00:10:43.619728Z"
    }
   },
   "outputs": [],
   "source": [
    "faiss.normalize_L2(base_vectors_2)\n",
    "index_2.add(base_vectors_2)"
   ]
  },
  {
   "cell_type": "code",
   "execution_count": 91,
   "metadata": {
    "ExecuteTime": {
     "end_time": "2024-05-05T00:10:43.781293Z",
     "start_time": "2024-05-05T00:10:43.753372Z"
    }
   },
   "outputs": [],
   "source": [
    "faiss.normalize_L2(query_vectors_2)"
   ]
  },
  {
   "cell_type": "code",
   "execution_count": 92,
   "metadata": {
    "ExecuteTime": {
     "end_time": "2024-05-05T00:12:18.934405Z",
     "start_time": "2024-05-05T00:10:43.787277Z"
    }
   },
   "outputs": [
    {
     "name": "stdout",
     "output_type": "stream",
     "text": [
      "Лучшее значение F1 меры = 0.6045292906606775 при 5 соседях\n"
     ]
    }
   ],
   "source": [
    "best_score = 0\n",
    "best_n = 0\n",
    "for n in list(range(3, 10, 2)):\n",
    "    dists, ids = index_2.search(query_vectors_2, n)\n",
    "    preds = faiss_predict(ids, n/2)\n",
    "    score = f1_score(query_labels, preds)\n",
    "    \n",
    "    if score > best_score:\n",
    "        best_score = score\n",
    "        best_n = n\n",
    "\n",
    "print(f'Лучшее значение F1 меры = {best_score} при {best_n} соседях')"
   ]
  },
  {
   "cell_type": "code",
   "execution_count": 93,
   "metadata": {
    "ExecuteTime": {
     "end_time": "2024-05-05T00:12:40.656272Z",
     "start_time": "2024-05-05T00:12:18.946371Z"
    }
   },
   "outputs": [],
   "source": [
    "dists_2, ids_2 = index_2.search(query_vectors_2, best_n)"
   ]
  },
  {
   "cell_type": "code",
   "execution_count": 94,
   "metadata": {
    "ExecuteTime": {
     "end_time": "2024-05-05T00:12:42.681545Z",
     "start_time": "2024-05-05T00:12:40.661260Z"
    }
   },
   "outputs": [
    {
     "name": "stdout",
     "output_type": "stream",
     "text": [
      "F1 мера модели FAISS: 0.605\n"
     ]
    }
   ],
   "source": [
    "faiss_preds_2 = faiss_predict(ids_2, best_n/2)\n",
    "faiss_score_2 = f1_score(query_labels, faiss_preds_2)\n",
    "print(f'F1 мера модели FAISS: {faiss_score_2:.3f}')"
   ]
  },
  {
   "cell_type": "markdown",
   "metadata": {},
   "source": [
    "**Выводы:**\n",
    "\n",
    "* В рамках решения задачи классификации текста были обучены три группы моделей: CatBoostClassifier, BERT и FAISS.\n",
    "* Для каждой группы моделей было применено по два различных подхода к обработке текста."
   ]
  },
  {
   "cell_type": "markdown",
   "metadata": {},
   "source": [
    "## Оценка качества предсказаний лучшей модели."
   ]
  },
  {
   "cell_type": "markdown",
   "metadata": {},
   "source": [
    "### Выбор лучшей модели."
   ]
  },
  {
   "cell_type": "markdown",
   "metadata": {},
   "source": [
    "Сведем все полученные значения метрики качества в таблицу."
   ]
  },
  {
   "cell_type": "code",
   "execution_count": 95,
   "metadata": {
    "ExecuteTime": {
     "end_time": "2024-05-05T00:12:42.993778Z",
     "start_time": "2024-05-05T00:12:42.686530Z"
    }
   },
   "outputs": [
    {
     "data": {
      "text/html": [
       "<div>\n",
       "<style scoped>\n",
       "    .dataframe tbody tr th:only-of-type {\n",
       "        vertical-align: middle;\n",
       "    }\n",
       "\n",
       "    .dataframe tbody tr th {\n",
       "        vertical-align: top;\n",
       "    }\n",
       "\n",
       "    .dataframe thead th {\n",
       "        text-align: right;\n",
       "    }\n",
       "</style>\n",
       "<table border=\"1\" class=\"dataframe\">\n",
       "  <thead>\n",
       "    <tr style=\"text-align: right;\">\n",
       "      <th></th>\n",
       "      <th>model</th>\n",
       "      <th>f1</th>\n",
       "    </tr>\n",
       "  </thead>\n",
       "  <tbody>\n",
       "    <tr>\n",
       "      <th>2</th>\n",
       "      <td>bert_128</td>\n",
       "      <td>0.86</td>\n",
       "    </tr>\n",
       "    <tr>\n",
       "      <th>3</th>\n",
       "      <td>bert_256</td>\n",
       "      <td>0.86</td>\n",
       "    </tr>\n",
       "    <tr>\n",
       "      <th>0</th>\n",
       "      <td>cat_simple</td>\n",
       "      <td>0.77</td>\n",
       "    </tr>\n",
       "    <tr>\n",
       "      <th>1</th>\n",
       "      <td>cat_advanced</td>\n",
       "      <td>0.76</td>\n",
       "    </tr>\n",
       "    <tr>\n",
       "      <th>4</th>\n",
       "      <td>faiss_paraphrase-mpnet-base-v2</td>\n",
       "      <td>0.71</td>\n",
       "    </tr>\n",
       "    <tr>\n",
       "      <th>5</th>\n",
       "      <td>faisse_all-MiniLM-L6-v2</td>\n",
       "      <td>0.60</td>\n",
       "    </tr>\n",
       "  </tbody>\n",
       "</table>\n",
       "</div>"
      ],
      "text/plain": [
       "                            model   f1\n",
       "2                        bert_128 0.86\n",
       "3                        bert_256 0.86\n",
       "0                      cat_simple 0.77\n",
       "1                    cat_advanced 0.76\n",
       "4  faiss_paraphrase-mpnet-base-v2 0.71\n",
       "5         faisse_all-MiniLM-L6-v2 0.60"
      ]
     },
     "execution_count": 95,
     "metadata": {},
     "output_type": "execute_result"
    }
   ],
   "source": [
    "final = pd.DataFrame({\n",
    "    'model' : ['cat_simple', 'cat_advanced', 'bert_128', 'bert_256', \n",
    "               'faiss_paraphrase-mpnet-base-v2', 'faisse_all-MiniLM-L6-v2'],\n",
    "    'f1': [cat_score, cat_lemma_score, bert_score_valid.item(), bert_score_valid_2.item(), faiss_score_1, faiss_score_2]    \n",
    "})\n",
    "\n",
    "\n",
    "final.sort_values(by='f1', ascending=False)"
   ]
  },
  {
   "cell_type": "markdown",
   "metadata": {},
   "source": [
    "Наилучшие результаты показала модель BERT при токенизации с максимальной длиной 128 слов."
   ]
  },
  {
   "cell_type": "markdown",
   "metadata": {},
   "source": [
    "### Тестирование лучшей модели."
   ]
  },
  {
   "cell_type": "code",
   "execution_count": 96,
   "metadata": {
    "ExecuteTime": {
     "end_time": "2024-05-05T00:14:39.476288Z",
     "start_time": "2024-05-05T00:12:43.009738Z"
    },
    "id": "H0dpboSdfSry"
   },
   "outputs": [],
   "source": [
    "test_inputs, test_masks = bert_token(x_test, tokenizer, 128)"
   ]
  },
  {
   "cell_type": "code",
   "execution_count": 97,
   "metadata": {
    "ExecuteTime": {
     "end_time": "2024-05-05T00:14:40.451647Z",
     "start_time": "2024-05-05T00:14:39.495206Z"
    },
    "id": "iYU5gaXFgF6i"
   },
   "outputs": [],
   "source": [
    "test_labels = torch.tensor(y_test.values)"
   ]
  },
  {
   "cell_type": "code",
   "execution_count": 98,
   "metadata": {
    "ExecuteTime": {
     "end_time": "2024-05-05T00:14:40.496525Z",
     "start_time": "2024-05-05T00:14:40.459626Z"
    },
    "colab": {
     "base_uri": "https://localhost:8080/"
    },
    "id": "uceNy1DYaXXL",
    "outputId": "c5c8fcbd-a366-41ad-e945-ae0785f39f5e"
   },
   "outputs": [
    {
     "name": "stdout",
     "output_type": "stream",
     "text": [
      "Размерность тестовых признаков: torch.Size([31599, 128])\n",
      "Размерность тестовой маски: torch.Size([31599, 128])\n",
      "Размерность тестового таргета: torch.Size([31599])\n"
     ]
    }
   ],
   "source": [
    "print(\"Размерность тестовых признаков:\", test_inputs.size())\n",
    "print(\"Размерность тестовой маски:\", test_masks.size())\n",
    "print(\"Размерность тестового таргета:\", test_labels.size())"
   ]
  },
  {
   "cell_type": "code",
   "execution_count": 99,
   "metadata": {
    "ExecuteTime": {
     "end_time": "2024-05-05T00:14:40.667997Z",
     "start_time": "2024-05-05T00:14:40.519480Z"
    }
   },
   "outputs": [],
   "source": [
    "test_data = TensorDataset(test_inputs, test_masks, test_labels)\n",
    "test_sampler = SequentialSampler(test_data)\n",
    "test_dataloader = DataLoader(test_data, sampler=test_sampler, batch_size=batch_size)"
   ]
  },
  {
   "cell_type": "code",
   "execution_count": 100,
   "metadata": {
    "ExecuteTime": {
     "end_time": "2024-05-05T00:24:26.069468Z",
     "start_time": "2024-05-05T00:14:40.671987Z"
    }
   },
   "outputs": [
    {
     "name": "stdout",
     "output_type": "stream",
     "text": [
      "Значение F1 на тесте 0.866\n"
     ]
    }
   ],
   "source": [
    "bert_model_load.to(device)\n",
    "bert_model_load.eval()\n",
    "\n",
    "all_test_preds = []\n",
    "all_test_targets = []\n",
    "\n",
    "for input_ids, input_mask, labels in test_dataloader:\n",
    "    input_ids = input_ids.to(device)\n",
    "    input_mask = input_mask.to(device)\n",
    "    labels = labels.to(device)\n",
    "\n",
    "    with torch.no_grad():\n",
    "        outputs = bert_model_load(input_ids,\n",
    "                                  token_type_ids=None,\n",
    "                                  attention_mask=input_mask)\n",
    "\n",
    "        logits = outputs['logits']\n",
    "            \n",
    "        all_test_preds.append(logits.argmax(dim=1))\n",
    "        all_test_targets.append(labels)\n",
    "    \n",
    "all_test_preds = torch.cat(all_test_preds)\n",
    "all_test_targets = torch.cat(all_test_targets)\n",
    "all_test_targets = all_test_targets.long()\n",
    "    \n",
    "bert_score_test = binary_f1_score(all_test_preds.squeeze(), all_test_targets.squeeze())\n",
    "print(f'Значение F1 на тесте {bert_score_test:.3f}')"
   ]
  },
  {
   "cell_type": "code",
   "execution_count": 101,
   "metadata": {
    "ExecuteTime": {
     "end_time": "2024-05-05T00:24:26.965094Z",
     "start_time": "2024-05-05T00:24:26.111368Z"
    }
   },
   "outputs": [],
   "source": [
    "bert_model_load = bert_model_load.cpu()\n",
    "all_test_preds = all_test_preds.cpu()\n",
    "all_test_targets = all_test_targets.cpu()"
   ]
  },
  {
   "cell_type": "markdown",
   "metadata": {},
   "source": [
    "Значение метрики качества на тестовой выборке равно 0,866. Вычислим значения recall и precision."
   ]
  },
  {
   "cell_type": "code",
   "execution_count": 102,
   "metadata": {
    "ExecuteTime": {
     "end_time": "2024-05-05T00:24:27.959429Z",
     "start_time": "2024-05-05T00:24:26.970078Z"
    }
   },
   "outputs": [],
   "source": [
    "recall = binary_recall(all_test_preds.squeeze(), all_test_targets.squeeze())\n",
    "precision = binary_precision(all_test_preds.squeeze(), all_test_targets.squeeze())"
   ]
  },
  {
   "cell_type": "code",
   "execution_count": 103,
   "metadata": {
    "ExecuteTime": {
     "end_time": "2024-05-05T00:24:27.997685Z",
     "start_time": "2024-05-05T00:24:27.980375Z"
    }
   },
   "outputs": [
    {
     "name": "stdout",
     "output_type": "stream",
     "text": [
      "Recall: 0.87\n",
      "Precision: 0.86\n"
     ]
    }
   ],
   "source": [
    "print(f'Recall: {recall:,.2f}')\n",
    "print(f'Precision: {precision:,.2f}')"
   ]
  },
  {
   "cell_type": "markdown",
   "metadata": {},
   "source": [
    "Визуализируем матрицу ошибок."
   ]
  },
  {
   "cell_type": "code",
   "execution_count": 104,
   "metadata": {
    "ExecuteTime": {
     "end_time": "2024-05-05T00:24:36.598058Z",
     "start_time": "2024-05-05T00:24:28.005307Z"
    }
   },
   "outputs": [
    {
     "data": {
      "image/png": "[encoded data removed]",
      "text/plain": [
       "<Figure size 640x480 with 2 Axes>"
      ]
     },
     "metadata": {},
     "output_type": "display_data"
    }
   ],
   "source": [
    "cm = binary_confusion_matrix(all_test_preds.squeeze(), all_test_targets.squeeze())\n",
    "disp = ConfusionMatrixDisplay(confusion_matrix=cm)\n",
    "disp.plot(values_format=\".0f\")\n",
    "plt.title(\"Матрица ошибок\")\n",
    "plt.show()"
   ]
  },
  {
   "cell_type": "markdown",
   "metadata": {},
   "source": [
    "Согласно графику, модель делает чуть больше ошибок при присвоении положительных меток."
   ]
  },
  {
   "cell_type": "markdown",
   "metadata": {},
   "source": [
    "**Выводы:**\n",
    "* Наилучшие результаты на валидационной выборке показала модель на основе архитектуры BERT при токенизации с максимальной длиной 128 слов.\n",
    "* Значение метрики F1 на тестовой выборке составляет 0,866, а recall и precision равны 0,87 и 0,86 соответственно. Это означает, что модель правильно присваивает метку класса для 4 из 5 комментариев, при этом 4 из 5 текстов, помеченных как токсичные, действительно являются таковыми."
   ]
  },
  {
   "cell_type": "markdown",
   "metadata": {},
   "source": [
    "## Общий вывод."
   ]
  },
  {
   "cell_type": "markdown",
   "metadata": {},
   "source": [
    "В рамках данного проекта была предпринята попытка создать инструмент, способный автоматически обнаруживать токсичные комментарии и направлять их на модерацию. \n",
    "Цель проекта заключалась в создании модели для классификации комментариев на токсичные или нейтральные, с достижением метрики качества F1 не менее 0,75."
   ]
  },
  {
   "cell_type": "markdown",
   "metadata": {},
   "source": [
    "В представленном наборе данных, содержащем 159 292 размеченных комментария, не выявлено ни пропусков, ни пустых строк. Произведена предварительная обработка текста, включающая приведение его к нижнему регистру, удаление лишних символов и пробелов. Удалены строки, содержащие одинаковый текст, но различные метки, а также выявлены и удалены явные дубликаты. В основном, длина комментариев не превышает 512 слов. Наблюдается сильный дисбаланс в распределении классов: доля токсичных комментариев составляет 10%."
   ]
  },
  {
   "cell_type": "markdown",
   "metadata": {},
   "source": [
    "Датасет был разделен на обучающую, валидационную и тестовую выборки в соотношении 3:1:1"
   ]
  },
  {
   "cell_type": "markdown",
   "metadata": {},
   "source": [
    "Были обучены три группы моделей, позволяющих решить задачу классификации текстов: CatBoostClassifier, BERT и FAISS. Для каждой группы было применено по два различных подхода к обработке текста."
   ]
  },
  {
   "cell_type": "markdown",
   "metadata": {},
   "source": [
    "На валидационной выборке наилучшие результаты продемонстрировала модель на основе архитектуры BERT, при токенизации с максимальной длиной 128 слов, достигнувшая F1-меры 0,86. Аналогичное качество работы эта модель продемонстрировала и на тестовой выборке, правильно определив 4 из 5 токсичных комментариев."
   ]
  },
  {
   "cell_type": "markdown",
   "metadata": {},
   "source": [
    "Таким образом, несмотря на ограниченное количество обучающих примеров для редкого класса, Модель хорошо научилась выявлять целевые случаи. Ее использование позволит интернет-магазину \"Викишоп\" автоматически отслеживать и фильтровать токсичные комментарии, тем самым повышая качество пользовательского взаимодействия и создавая благоприятную атмосферу в сообществе."
   ]
  }
 ],
 "metadata": {
  "accelerator": "GPU",
  "colab": {
   "gpuType": "T4",
   "provenance": []
  },
  "kernelspec": {
   "display_name": "Python 3 (ipykernel)",
   "language": "python",
   "name": "python3"
  },
  "language_info": {
   "codemirror_mode": {
    "name": "ipython",
    "version": 3
   },
   "file_extension": ".py",
   "mimetype": "text/x-python",
   "name": "python",
   "nbconvert_exporter": "python",
   "pygments_lexer": "ipython3",
   "version": "3.9.21"
  },
  "toc": {
   "base_numbering": 1,
   "nav_menu": {},
   "number_sections": true,
   "sideBar": true,
   "skip_h1_title": true,
   "title_cell": "Table of Contents",
   "title_sidebar": "Contents",
   "toc_cell": true,
   "toc_position": {
    "height": "710.909px",
    "left": "66px",
    "top": "110.866px",
    "width": "286.591px"
   },
   "toc_section_display": true,
   "toc_window_display": true
  },
  "varInspector": {
   "cols": {
    "lenName": 16,
    "lenType": 16,
    "lenVar": 40
   },
   "kernels_config": {
    "python": {
     "delete_cmd_postfix": "",
     "delete_cmd_prefix": "del ",
     "library": "var_list.py",
     "varRefreshCmd": "print(var_dic_list())"
    },
    "r": {
     "delete_cmd_postfix": ") ",
     "delete_cmd_prefix": "rm(",
     "library": "var_list.r",
     "varRefreshCmd": "cat(var_dic_list()) "
    }
   },
   "types_to_exclude": [
    "module",
    "function",
    "builtin_function_or_method",
    "instance",
    "_Feature"
   ],
   "window_display": false
  }
 },
 "nbformat": 4,
 "nbformat_minor": 1
}
